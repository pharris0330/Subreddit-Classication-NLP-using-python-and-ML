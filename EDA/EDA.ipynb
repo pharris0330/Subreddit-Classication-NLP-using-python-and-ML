{
 "cells": [
  {
   "cell_type": "code",
   "execution_count": 13,
   "id": "1f3e76b5-0ebf-4734-856a-b7d36469a205",
   "metadata": {},
   "outputs": [],
   "source": [
    "# Imports\n",
    "import pandas as pd\n",
    "import re\n",
    "\n",
    "from nltk.tokenize import sent_tokenize, word_tokenize, RegexpTokenizer\n",
    "from nltk.stem import WordNetLemmatizer\n",
    "from nltk.stem.porter import PorterStemmer\n",
    "from nltk.corpus import stopwords\n",
    "from nltk.sentiment.vader import SentimentIntensityAnalyzer"
   ]
  },
  {
   "cell_type": "code",
   "execution_count": 14,
   "id": "bfafa4c6-9ed5-4bf9-b7d6-68002d3dee57",
   "metadata": {},
   "outputs": [],
   "source": [
    "import requests\n",
    "import time\n",
    "\n",
    "import pandas as pd"
   ]
  },
  {
   "cell_type": "code",
   "execution_count": 15,
   "id": "d66dee8b-71c3-4367-921c-34a3b0a03ef7",
   "metadata": {},
   "outputs": [
    {
     "data": {
      "text/plain": [
       "'cat'"
      ]
     },
     "execution_count": 15,
     "metadata": {},
     "output_type": "execute_result"
    }
   ],
   "source": [
    "from nltk.stem import WordNetLemmatizer\n",
    "\n",
    "lemmatizer = WordNetLemmatizer()\n",
    "lemmatizer.lemmatize(\"cats\")"
   ]
  },
  {
   "cell_type": "code",
   "execution_count": null,
   "id": "38b59168-09a5-4868-848e-934d6d95a4ba",
   "metadata": {},
   "outputs": [],
   "source": [
    "https://medium.com/swlh/tweet-sentiment-analysis-using-python-for-complete-beginners-4aeb4456040"
   ]
  },
  {
   "cell_type": "markdown",
   "id": "825f3cf0-e758-4bfc-a82c-2a1e29eaa456",
   "metadata": {},
   "source": [
    "## API Calls\n",
    "\n",
    "We're using the Pushshift API rather than querying or scraping Reddit directly."
   ]
  },
  {
   "cell_type": "code",
   "execution_count": 40,
   "id": "73a8eaa3-1c36-4b29-ae37-dd641afc2a18",
   "metadata": {},
   "outputs": [],
   "source": [
    "url = 'https://api.pushshift.io/reddit/search/submission'\n",
    "\n",
    "params = {\n",
    "    'subreddit': 'AskNYC',\n",
    "    'size': 100,\n",
    "    'before': 1631370974\n",
    "}"
   ]
  },
  {
   "cell_type": "code",
   "execution_count": 41,
   "id": "8ad35063-915f-443c-ab54-25c7cb354aa0",
   "metadata": {},
   "outputs": [],
   "source": [
    "res = requests.get(url, params=params)"
   ]
  },
  {
   "cell_type": "code",
   "execution_count": 42,
   "id": "c4dd123b-5913-4800-b177-5800bb1796f1",
   "metadata": {},
   "outputs": [
    {
     "data": {
      "text/plain": [
       "dict"
      ]
     },
     "execution_count": 42,
     "metadata": {},
     "output_type": "execute_result"
    }
   ],
   "source": [
    "data = res.json()\n",
    "type(data)"
   ]
  },
  {
   "cell_type": "code",
   "execution_count": 39,
   "id": "4a4e8cca-b448-499b-838e-9d342fb52732",
   "metadata": {},
   "outputs": [
    {
     "data": {
      "text/plain": [
       "1631370974"
      ]
     },
     "execution_count": 39,
     "metadata": {},
     "output_type": "execute_result"
    }
   ],
   "source": [
    "data['data'][-1]['created_utc']"
   ]
  },
  {
   "cell_type": "markdown",
   "id": "81b113d6-2c8b-4243-920a-f35cf03f7f9b",
   "metadata": {},
   "source": [
    "## Looping"
   ]
  },
  {
   "cell_type": "code",
   "execution_count": 229,
   "id": "4c393afa-9cfe-4bde-8c28-d6ba45a2b7e9",
   "metadata": {},
   "outputs": [
    {
     "name": "stdout",
     "output_type": "stream",
     "text": [
      "before updated to: 1632801035\n",
      "before updated to: 1632713881\n",
      "before updated to: 1632609492\n",
      "before updated to: 1632513165\n",
      "before updated to: 1632420108\n",
      "before updated to: 1632338554\n",
      "before updated to: 1632251959\n",
      "before updated to: 1632162799\n",
      "before updated to: 1632076839\n",
      "before updated to: 1631935994\n",
      "before updated to: 1631839850\n",
      "before updated to: 1631744646\n",
      "before updated to: 1631657563\n",
      "before updated to: 1631564141\n",
      "before updated to: 1631489423\n",
      "before updated to: 1631386597\n",
      "before updated to: 1631293600\n",
      "before updated to: 1631207760\n",
      "before updated to: 1631119654\n",
      "before updated to: 1631035738\n",
      "before updated to: 1630930246\n",
      "before updated to: 1630799564\n",
      "before updated to: 1630700273\n",
      "before updated to: 1630626198\n",
      "before updated to: 1630553525\n",
      "before updated to: 1630460117\n",
      "before updated to: 1630364458\n",
      "before updated to: 1630281936\n",
      "before updated to: 1630175896\n",
      "before updated to: 1630078174\n",
      "before updated to: 1629985328\n",
      "before updated to: 1629861660\n",
      "before updated to: 1629759255\n",
      "before updated to: 1629667478\n",
      "before updated to: 1629561064\n",
      "before updated to: 1629457436\n",
      "before updated to: 1629341635\n",
      "before updated to: 1629246707\n",
      "before updated to: 1629159799\n",
      "before updated to: 1629069137\n"
     ]
    }
   ],
   "source": [
    "url = 'https://api.pushshift.io/reddit/search/submission'\n",
    "subreddit = 'AskNYC'\n",
    "before = 1632922428\n",
    "\n",
    "df_list = []\n",
    "\n",
    "for _ in range(40):\n",
    "        \n",
    "    params = {\n",
    "        'subreddit': subreddit,\n",
    "        'size': 100,\n",
    "        'before': before\n",
    "    }\n",
    "\n",
    "    res = requests.get(url, params=params)\n",
    "    data = res.json()\n",
    "    \n",
    "    before = data['data'][-1]['created_utc']\n",
    "    print(f'before updated to: {before}')\n",
    "    \n",
    "    post_df = pd.DataFrame(data['data'])\n",
    "    df_list.append(post_df)\n",
    "    \n",
    "    time.sleep(3)"
   ]
  },
  {
   "cell_type": "code",
   "execution_count": 230,
   "id": "7e75150d-7692-492a-9498-72f8c97c62ab",
   "metadata": {},
   "outputs": [],
   "source": [
    "AskNYC_df = pd.concat(df_list)"
   ]
  },
  {
   "cell_type": "code",
   "execution_count": 84,
   "id": "42673448-49f3-45be-9d14-2267211eca0b",
   "metadata": {},
   "outputs": [
    {
     "name": "stdout",
     "output_type": "stream",
     "text": [
      "before updated to: 1632602022\n",
      "before updated to: 1632328788\n",
      "before updated to: 1631960486\n",
      "before updated to: 1631652328\n",
      "before updated to: 1631331222\n",
      "before updated to: 1630983454\n",
      "before updated to: 1630596608\n",
      "before updated to: 1630307196\n",
      "before updated to: 1630015984\n",
      "before updated to: 1629743166\n",
      "before updated to: 1629417990\n",
      "before updated to: 1629005530\n",
      "before updated to: 1628708334\n",
      "before updated to: 1628450583\n",
      "before updated to: 1628106375\n",
      "before updated to: 1627769552\n",
      "before updated to: 1627439222\n",
      "before updated to: 1627100871\n",
      "before updated to: 1626799672\n",
      "before updated to: 1626458276\n",
      "before updated to: 1626153959\n",
      "before updated to: 1625867273\n",
      "before updated to: 1625550012\n",
      "before updated to: 1625261517\n",
      "before updated to: 1624993155\n",
      "before updated to: 1624593361\n",
      "before updated to: 1624335115\n",
      "before updated to: 1623990404\n",
      "before updated to: 1623704953\n",
      "before updated to: 1623379247\n",
      "before updated to: 1623098727\n",
      "before updated to: 1622726999\n",
      "before updated to: 1622424026\n",
      "before updated to: 1622128212\n",
      "before updated to: 1621871806\n",
      "before updated to: 1621549537\n",
      "before updated to: 1621286272\n",
      "before updated to: 1620945684\n",
      "before updated to: 1620544861\n",
      "before updated to: 1620238343\n"
     ]
    }
   ],
   "source": [
    "url = 'https://api.pushshift.io/reddit/search/submission'\n",
    "subreddit = 'AskLosAngeles'\n",
    "before = 1632922428\n",
    "\n",
    "df_list = []\n",
    "\n",
    "for _ in range(40):\n",
    "        \n",
    "    params = {\n",
    "        'subreddit': subreddit,\n",
    "        'size': 100,\n",
    "        'before': before\n",
    "    }\n",
    "\n",
    "    res = requests.get(url, params=params)\n",
    "    data = res.json()\n",
    "    \n",
    "    before = data['data'][-1]['created_utc']\n",
    "    print(f'before updated to: {before}')\n",
    "    \n",
    "    post_df = pd.DataFrame(data['data'])\n",
    "    df_list.append(post_df)\n",
    "    \n",
    "    time.sleep(3)\n",
    "    \n",
    "AskLosAngeles_df = pd.concat(df_list)"
   ]
  },
  {
   "cell_type": "code",
   "execution_count": 173,
   "id": "7c9ca537-4b30-440d-b37b-957dddfb88e1",
   "metadata": {},
   "outputs": [],
   "source": [
    "NYC_LA_df = pd.concat([AskNYC_df,AskLosAngeles_df])"
   ]
  },
  {
   "cell_type": "code",
   "execution_count": null,
   "id": "cd045a22-b391-4f9d-924e-1a1d3f84a964",
   "metadata": {},
   "outputs": [],
   "source": []
  },
  {
   "cell_type": "markdown",
   "id": "75e4c177-4b09-4c12-81ef-ef8959ed340d",
   "metadata": {},
   "source": [
    "### Unique users"
   ]
  },
  {
   "cell_type": "code",
   "execution_count": 87,
   "id": "1965bbae-889b-40ee-aafd-e7b617673900",
   "metadata": {},
   "outputs": [
    {
     "data": {
      "text/plain": [
       "(7998, 70)"
      ]
     },
     "execution_count": 87,
     "metadata": {},
     "output_type": "execute_result"
    }
   ],
   "source": [
    "NYC_LA_df.shape"
   ]
  },
  {
   "cell_type": "code",
   "execution_count": 88,
   "id": "a130bed0-c5b1-43b8-bd86-de5d0e898986",
   "metadata": {},
   "outputs": [
    {
     "data": {
      "text/plain": [
       "7998"
      ]
     },
     "execution_count": 88,
     "metadata": {},
     "output_type": "execute_result"
    }
   ],
   "source": [
    "len(NYC_LA_df['author'])"
   ]
  },
  {
   "cell_type": "code",
   "execution_count": 89,
   "id": "a108b5d2-01cf-4ddd-8a1d-e23c79142f58",
   "metadata": {},
   "outputs": [
    {
     "data": {
      "text/plain": [
       "yummsushii              42\n",
       "yourlocaltransexual     36\n",
       "dramaturgicaldyad       32\n",
       "[deleted]               28\n",
       "sumdum1234              28\n",
       "                        ..\n",
       "K1otayler                2\n",
       "aj752                    2\n",
       "vietnamese_kid           2\n",
       "LopsidedCelebration2     2\n",
       "always___cold            2\n",
       "Name: author, Length: 2764, dtype: int64"
      ]
     },
     "execution_count": 89,
     "metadata": {},
     "output_type": "execute_result"
    }
   ],
   "source": [
    "NYC_LA_df['author'].value_counts()"
   ]
  },
  {
   "cell_type": "code",
   "execution_count": 91,
   "id": "74f46db7-8e92-46a8-adc0-a178b4694132",
   "metadata": {},
   "outputs": [
    {
     "data": {
      "text/plain": [
       "43"
      ]
     },
     "execution_count": 91,
     "metadata": {},
     "output_type": "execute_result"
    }
   ],
   "source": [
    "sum(NYC_LA_df['author'].value_counts() > 10)"
   ]
  },
  {
   "cell_type": "markdown",
   "id": "80e0e908-872b-4545-ba88-662cecdd79ce",
   "metadata": {},
   "source": [
    "### Status length NYC"
   ]
  },
  {
   "cell_type": "code",
   "execution_count": 200,
   "id": "505c1b9f-9de0-4f59-a54e-d6e72fe2e37c",
   "metadata": {},
   "outputs": [],
   "source": [
    "status_NYC = AskNYC_df[['selftext','subreddit']].dropna()\n",
    "status_LA = AskLosAngeles_df[['selftext','subreddit']].dropna()\n",
    "status_NYC_LA = pd.concat([status_LA,status_NYC])"
   ]
  },
  {
   "cell_type": "code",
   "execution_count": 202,
   "id": "887a46de-984e-4c15-a4f6-939c4a4a9a8b",
   "metadata": {},
   "outputs": [],
   "source": [
    "status_NYC_LA_df=pd.DataFrame(status_NYC_LA)"
   ]
  },
  {
   "cell_type": "code",
   "execution_count": 204,
   "id": "9c1ce18b-752b-467a-9510-8c99c06b2019",
   "metadata": {},
   "outputs": [],
   "source": [
    "def get_status_length(status):\n",
    "    return len(status)\n",
    "\n",
    "status_NYC_LA_df['status_length'] = status_NYC_LA_df['selftext'].map(get_status_length)"
   ]
  },
  {
   "cell_type": "code",
   "execution_count": 205,
   "id": "ba3c88cc-51ba-4d03-aa8a-9417cb38c680",
   "metadata": {},
   "outputs": [
    {
     "data": {
      "image/png": "[encoded data removed]",
      "text/plain": [
       "<Figure size 432x288 with 1 Axes>"
      ]
     },
     "metadata": {
      "needs_background": "light"
     },
     "output_type": "display_data"
    }
   ],
   "source": [
    "plt.title('Distn of status length')\n",
    "plt.hist(status_NYC_LA_df['status_length']);"
   ]
  },
  {
   "cell_type": "markdown",
   "id": "d071d115-8803-4497-b028-d48899e62ee3",
   "metadata": {},
   "source": [
    "### Status word count"
   ]
  },
  {
   "cell_type": "code",
   "execution_count": 206,
   "id": "ab50079e-ff00-4f29-9727-cfccdbe4f360",
   "metadata": {},
   "outputs": [],
   "source": [
    "def get_status_word_count(status):\n",
    "    return len(status.split())\n",
    "\n",
    "status_NYC_LA_df['status_word_count'] =status_NYC_LA_df['selftext'].map(get_status_word_count)"
   ]
  },
  {
   "cell_type": "code",
   "execution_count": 207,
   "id": "e65a2554-0e11-4705-930f-c857b05b0095",
   "metadata": {},
   "outputs": [],
   "source": [
    "import matplotlib.pyplot as plt"
   ]
  },
  {
   "cell_type": "code",
   "execution_count": 208,
   "id": "f8da6900-d9e2-462e-8f77-833a42c979ab",
   "metadata": {},
   "outputs": [
    {
     "data": {
      "image/png": "[encoded data removed]",
      "text/plain": [
       "<Figure size 432x288 with 1 Axes>"
      ]
     },
     "metadata": {
      "needs_background": "light"
     },
     "output_type": "display_data"
    }
   ],
   "source": [
    "plt.title('Distn of word counts')\n",
    "plt.hist(status_NYC_LA_df['status_word_count']);"
   ]
  },
  {
   "cell_type": "markdown",
   "id": "23de6b98-731a-4a1c-aed6-e3d95bec484f",
   "metadata": {},
   "source": [
    "### Average word count"
   ]
  },
  {
   "cell_type": "code",
   "execution_count": 258,
   "id": "2f7ab65c-dfea-4d66-9d93-95344a5ee987",
   "metadata": {},
   "outputs": [
    {
     "data": {
      "text/html": [
       "<div>\n",
       "<style scoped>\n",
       "    .dataframe tbody tr th:only-of-type {\n",
       "        vertical-align: middle;\n",
       "    }\n",
       "\n",
       "    .dataframe tbody tr th {\n",
       "        vertical-align: top;\n",
       "    }\n",
       "\n",
       "    .dataframe thead th {\n",
       "        text-align: right;\n",
       "    }\n",
       "</style>\n",
       "<table border=\"1\" class=\"dataframe\">\n",
       "  <thead>\n",
       "    <tr style=\"text-align: right;\">\n",
       "      <th></th>\n",
       "      <th>status_length</th>\n",
       "      <th>status_word_count</th>\n",
       "    </tr>\n",
       "    <tr>\n",
       "      <th>subreddit</th>\n",
       "      <th></th>\n",
       "      <th></th>\n",
       "    </tr>\n",
       "  </thead>\n",
       "  <tbody>\n",
       "    <tr>\n",
       "      <th>AskLosAngeles</th>\n",
       "      <td>363.476226</td>\n",
       "      <td>67.080330</td>\n",
       "    </tr>\n",
       "    <tr>\n",
       "      <th>AskNYC</th>\n",
       "      <td>313.590579</td>\n",
       "      <td>57.767226</td>\n",
       "    </tr>\n",
       "  </tbody>\n",
       "</table>\n",
       "</div>"
      ],
      "text/plain": [
       "               status_length  status_word_count\n",
       "subreddit                                      \n",
       "AskLosAngeles     363.476226          67.080330\n",
       "AskNYC            313.590579          57.767226"
      ]
     },
     "execution_count": 258,
     "metadata": {},
     "output_type": "execute_result"
    }
   ],
   "source": [
    "status_NYC_LA_df.groupby('subreddit').mean()[['status_length', 'status_word_count']]"
   ]
  },
  {
   "cell_type": "markdown",
   "id": "d3a618ea-241d-4ccb-8291-c7e8640e8ace",
   "metadata": {},
   "source": [
    "### 15 most common words NYC"
   ]
  },
  {
   "cell_type": "code",
   "execution_count": 95,
   "id": "9d733273-9dd3-4e7c-bbc6-6930ba35baff",
   "metadata": {},
   "outputs": [],
   "source": [
    "from sklearn.feature_extraction.text import CountVectorizer"
   ]
  },
  {
   "cell_type": "code",
   "execution_count": 231,
   "id": "ba3645de-9d09-47fd-9963-35d8c565bc07",
   "metadata": {},
   "outputs": [],
   "source": [
    "test=AskNYC_df['selftext'].dropna()"
   ]
  },
  {
   "cell_type": "code",
   "execution_count": 232,
   "id": "79360c1c-71de-4df8-b901-43188801eb4f",
   "metadata": {},
   "outputs": [],
   "source": [
    "cv = CountVectorizer(stop_words='english')\n",
    "cv.fit(test)\n",
    "\n",
    "AskNYC_cv = cv.transform(test)"
   ]
  },
  {
   "cell_type": "code",
   "execution_count": 233,
   "id": "1f42a8ef-a3f0-415b-895d-017198e07c5c",
   "metadata": {},
   "outputs": [
    {
     "data": {
      "text/html": [
       "<div>\n",
       "<style scoped>\n",
       "    .dataframe tbody tr th:only-of-type {\n",
       "        vertical-align: middle;\n",
       "    }\n",
       "\n",
       "    .dataframe tbody tr th {\n",
       "        vertical-align: top;\n",
       "    }\n",
       "\n",
       "    .dataframe thead th {\n",
       "        text-align: right;\n",
       "    }\n",
       "</style>\n",
       "<table border=\"1\" class=\"dataframe\">\n",
       "  <thead>\n",
       "    <tr style=\"text-align: right;\">\n",
       "      <th></th>\n",
       "      <th>00</th>\n",
       "      <th>000</th>\n",
       "      <th>00am</th>\n",
       "      <th>00nyvirus</th>\n",
       "      <th>00p</th>\n",
       "      <th>00pm</th>\n",
       "      <th>01</th>\n",
       "      <th>010450</th>\n",
       "      <th>010456</th>\n",
       "      <th>02</th>\n",
       "      <th>...</th>\n",
       "      <th>zoned</th>\n",
       "      <th>zoo</th>\n",
       "      <th>zoom</th>\n",
       "      <th>zpass</th>\n",
       "      <th>zucker</th>\n",
       "      <th>zurich</th>\n",
       "      <th>油条</th>\n",
       "      <th>煎饼</th>\n",
       "      <th>肉夹馍</th>\n",
       "      <th>饭团</th>\n",
       "    </tr>\n",
       "  </thead>\n",
       "  <tbody>\n",
       "    <tr>\n",
       "      <th>0</th>\n",
       "      <td>0</td>\n",
       "      <td>0</td>\n",
       "      <td>0</td>\n",
       "      <td>0</td>\n",
       "      <td>0</td>\n",
       "      <td>0</td>\n",
       "      <td>0</td>\n",
       "      <td>0</td>\n",
       "      <td>0</td>\n",
       "      <td>0</td>\n",
       "      <td>...</td>\n",
       "      <td>0</td>\n",
       "      <td>0</td>\n",
       "      <td>0</td>\n",
       "      <td>0</td>\n",
       "      <td>0</td>\n",
       "      <td>0</td>\n",
       "      <td>0</td>\n",
       "      <td>0</td>\n",
       "      <td>0</td>\n",
       "      <td>0</td>\n",
       "    </tr>\n",
       "    <tr>\n",
       "      <th>1</th>\n",
       "      <td>0</td>\n",
       "      <td>0</td>\n",
       "      <td>0</td>\n",
       "      <td>0</td>\n",
       "      <td>0</td>\n",
       "      <td>0</td>\n",
       "      <td>0</td>\n",
       "      <td>0</td>\n",
       "      <td>0</td>\n",
       "      <td>0</td>\n",
       "      <td>...</td>\n",
       "      <td>0</td>\n",
       "      <td>0</td>\n",
       "      <td>0</td>\n",
       "      <td>0</td>\n",
       "      <td>0</td>\n",
       "      <td>0</td>\n",
       "      <td>0</td>\n",
       "      <td>0</td>\n",
       "      <td>0</td>\n",
       "      <td>0</td>\n",
       "    </tr>\n",
       "    <tr>\n",
       "      <th>2</th>\n",
       "      <td>0</td>\n",
       "      <td>0</td>\n",
       "      <td>0</td>\n",
       "      <td>0</td>\n",
       "      <td>0</td>\n",
       "      <td>0</td>\n",
       "      <td>0</td>\n",
       "      <td>0</td>\n",
       "      <td>0</td>\n",
       "      <td>0</td>\n",
       "      <td>...</td>\n",
       "      <td>0</td>\n",
       "      <td>0</td>\n",
       "      <td>0</td>\n",
       "      <td>0</td>\n",
       "      <td>0</td>\n",
       "      <td>0</td>\n",
       "      <td>0</td>\n",
       "      <td>0</td>\n",
       "      <td>0</td>\n",
       "      <td>0</td>\n",
       "    </tr>\n",
       "  </tbody>\n",
       "</table>\n",
       "<p>3 rows × 12012 columns</p>\n",
       "</div>"
      ],
      "text/plain": [
       "   00  000  00am  00nyvirus  00p  00pm  01  010450  010456  02  ...  zoned  \\\n",
       "0   0    0     0          0    0     0   0       0       0   0  ...      0   \n",
       "1   0    0     0          0    0     0   0       0       0   0  ...      0   \n",
       "2   0    0     0          0    0     0   0       0       0   0  ...      0   \n",
       "\n",
       "   zoo  zoom  zpass  zucker  zurich  油条  煎饼  肉夹馍  饭团  \n",
       "0    0     0      0       0       0   0   0    0   0  \n",
       "1    0     0      0       0       0   0   0    0   0  \n",
       "2    0     0      0       0       0   0   0    0   0  \n",
       "\n",
       "[3 rows x 12012 columns]"
      ]
     },
     "execution_count": 233,
     "metadata": {},
     "output_type": "execute_result"
    }
   ],
   "source": [
    "status_df = pd.DataFrame(AskNYC_cv.todense(), columns=cv.get_feature_names())\n",
    "status_df.head(3)"
   ]
  },
  {
   "cell_type": "code",
   "execution_count": 238,
   "id": "461748fc-0b55-4cc2-b361-7dea12f68e8a",
   "metadata": {},
   "outputs": [
    {
     "data": {
      "text/plain": [
       "just         1040\n",
       "like          963\n",
       "know          901\n",
       "removed       818\n",
       "nyc           790\n",
       "ve            760\n",
       "looking       685\n",
       "don           657\n",
       "time          579\n",
       "new           548\n",
       "people        514\n",
       "city          511\n",
       "good          476\n",
       "want          475\n",
       "apartment     474\n",
       "thanks        459\n",
       "dtype: int64"
      ]
     },
     "execution_count": 238,
     "metadata": {},
     "output_type": "execute_result"
    }
   ],
   "source": [
    "status_df.sum().sort_values(ascending=False).head(16)"
   ]
  },
  {
   "cell_type": "code",
   "execution_count": 124,
   "id": "13fdf9ab-7bf5-4eb6-be12-9fb224274424",
   "metadata": {},
   "outputs": [
    {
     "data": {
      "text/plain": [
       "<AxesSubplot:>"
      ]
     },
     "execution_count": 124,
     "metadata": {},
     "output_type": "execute_result"
    },
    {
     "data": {
      "image/png": "[encoded data removed]",
      "text/plain": [
       "<Figure size 432x288 with 1 Axes>"
      ]
     },
     "metadata": {
      "needs_background": "light"
     },
     "output_type": "display_data"
    }
   ],
   "source": [
    "status_df.sum().sort_values(ascending=False).head(15).plot(kind='barh')"
   ]
  },
  {
   "cell_type": "markdown",
   "id": "7e635a2e-6af5-4366-af1c-a76afd95fd8c",
   "metadata": {},
   "source": [
    "### 15 most common words NYC"
   ]
  },
  {
   "cell_type": "code",
   "execution_count": 50,
   "id": "994b1734-13db-4098-9590-325566e9e2ef",
   "metadata": {},
   "outputs": [],
   "source": [
    "from sklearn.feature_extraction.text import CountVectorizer"
   ]
  },
  {
   "cell_type": "code",
   "execution_count": 224,
   "id": "6c07ee2c-2b90-4c0b-b1b2-f72a357737df",
   "metadata": {},
   "outputs": [],
   "source": [
    "test=AskLosAngeles_df['selftext'].dropna()"
   ]
  },
  {
   "cell_type": "code",
   "execution_count": 225,
   "id": "f351a212-8cf2-40fb-8369-ef1b0df17601",
   "metadata": {},
   "outputs": [],
   "source": [
    "cv = CountVectorizer(stop_words='english')\n",
    "cv.fit(test)\n",
    "\n",
    "AskLA_cv = cv.transform(test)"
   ]
  },
  {
   "cell_type": "code",
   "execution_count": 226,
   "id": "09bd20a4-ec53-483e-8f3f-e5675190c94e",
   "metadata": {},
   "outputs": [
    {
     "data": {
      "text/html": [
       "<div>\n",
       "<style scoped>\n",
       "    .dataframe tbody tr th:only-of-type {\n",
       "        vertical-align: middle;\n",
       "    }\n",
       "\n",
       "    .dataframe tbody tr th {\n",
       "        vertical-align: top;\n",
       "    }\n",
       "\n",
       "    .dataframe thead th {\n",
       "        text-align: right;\n",
       "    }\n",
       "</style>\n",
       "<table border=\"1\" class=\"dataframe\">\n",
       "  <thead>\n",
       "    <tr style=\"text-align: right;\">\n",
       "      <th></th>\n",
       "      <th>00</th>\n",
       "      <th>000</th>\n",
       "      <th>0008782</th>\n",
       "      <th>004</th>\n",
       "      <th>004609907</th>\n",
       "      <th>004614454</th>\n",
       "      <th>00am</th>\n",
       "      <th>00pm</th>\n",
       "      <th>01</th>\n",
       "      <th>044406473</th>\n",
       "      <th>...</th>\n",
       "      <th>zones</th>\n",
       "      <th>zoo</th>\n",
       "      <th>zoom</th>\n",
       "      <th>zooming</th>\n",
       "      <th>zoot</th>\n",
       "      <th>zumper</th>\n",
       "      <th>zurich</th>\n",
       "      <th>zyrtec</th>\n",
       "      <th>ángeles</th>\n",
       "      <th>сlearly</th>\n",
       "    </tr>\n",
       "  </thead>\n",
       "  <tbody>\n",
       "    <tr>\n",
       "      <th>0</th>\n",
       "      <td>0</td>\n",
       "      <td>0</td>\n",
       "      <td>0</td>\n",
       "      <td>0</td>\n",
       "      <td>0</td>\n",
       "      <td>0</td>\n",
       "      <td>0</td>\n",
       "      <td>0</td>\n",
       "      <td>0</td>\n",
       "      <td>0</td>\n",
       "      <td>...</td>\n",
       "      <td>0</td>\n",
       "      <td>0</td>\n",
       "      <td>0</td>\n",
       "      <td>0</td>\n",
       "      <td>0</td>\n",
       "      <td>0</td>\n",
       "      <td>0</td>\n",
       "      <td>0</td>\n",
       "      <td>0</td>\n",
       "      <td>0</td>\n",
       "    </tr>\n",
       "    <tr>\n",
       "      <th>1</th>\n",
       "      <td>0</td>\n",
       "      <td>0</td>\n",
       "      <td>0</td>\n",
       "      <td>0</td>\n",
       "      <td>0</td>\n",
       "      <td>0</td>\n",
       "      <td>0</td>\n",
       "      <td>0</td>\n",
       "      <td>0</td>\n",
       "      <td>0</td>\n",
       "      <td>...</td>\n",
       "      <td>0</td>\n",
       "      <td>0</td>\n",
       "      <td>0</td>\n",
       "      <td>0</td>\n",
       "      <td>0</td>\n",
       "      <td>0</td>\n",
       "      <td>0</td>\n",
       "      <td>0</td>\n",
       "      <td>0</td>\n",
       "      <td>0</td>\n",
       "    </tr>\n",
       "    <tr>\n",
       "      <th>2</th>\n",
       "      <td>0</td>\n",
       "      <td>0</td>\n",
       "      <td>0</td>\n",
       "      <td>0</td>\n",
       "      <td>0</td>\n",
       "      <td>0</td>\n",
       "      <td>0</td>\n",
       "      <td>0</td>\n",
       "      <td>0</td>\n",
       "      <td>0</td>\n",
       "      <td>...</td>\n",
       "      <td>0</td>\n",
       "      <td>0</td>\n",
       "      <td>0</td>\n",
       "      <td>0</td>\n",
       "      <td>0</td>\n",
       "      <td>0</td>\n",
       "      <td>0</td>\n",
       "      <td>0</td>\n",
       "      <td>0</td>\n",
       "      <td>0</td>\n",
       "    </tr>\n",
       "  </tbody>\n",
       "</table>\n",
       "<p>3 rows × 12965 columns</p>\n",
       "</div>"
      ],
      "text/plain": [
       "   00  000  0008782  004  004609907  004614454  00am  00pm  01  044406473  \\\n",
       "0   0    0        0    0          0          0     0     0   0          0   \n",
       "1   0    0        0    0          0          0     0     0   0          0   \n",
       "2   0    0        0    0          0          0     0     0   0          0   \n",
       "\n",
       "   ...  zones  zoo  zoom  zooming  zoot  zumper  zurich  zyrtec  ángeles  \\\n",
       "0  ...      0    0     0        0     0       0       0       0        0   \n",
       "1  ...      0    0     0        0     0       0       0       0        0   \n",
       "2  ...      0    0     0        0     0       0       0       0        0   \n",
       "\n",
       "   сlearly  \n",
       "0        0  \n",
       "1        0  \n",
       "2        0  \n",
       "\n",
       "[3 rows x 12965 columns]"
      ]
     },
     "execution_count": 226,
     "metadata": {},
     "output_type": "execute_result"
    }
   ],
   "source": [
    "status_df = pd.DataFrame(AskLA_cv.todense(), columns=cv.get_feature_names())\n",
    "status_df.head(3)"
   ]
  },
  {
   "cell_type": "code",
   "execution_count": 227,
   "id": "b4b33075-8098-4b72-a691-870778062f64",
   "metadata": {},
   "outputs": [
    {
     "data": {
      "text/plain": [
       "la         1802\n",
       "like       1331\n",
       "know       1285\n",
       "just       1164\n",
       "looking    1118\n",
       "ve          897\n",
       "area        784\n",
       "good        735\n",
       "people      727\n",
       "want        713\n",
       "don         687\n",
       "thanks      612\n",
       "time        590\n",
       "does        578\n",
       "place       569\n",
       "dtype: int64"
      ]
     },
     "execution_count": 227,
     "metadata": {},
     "output_type": "execute_result"
    }
   ],
   "source": [
    "status_df.sum().sort_values(ascending=False).head(15)"
   ]
  },
  {
   "cell_type": "code",
   "execution_count": 129,
   "id": "6c2b34a5-ae86-4d40-a1a7-4c5eb4f1c0d4",
   "metadata": {},
   "outputs": [
    {
     "data": {
      "text/plain": [
       "<AxesSubplot:>"
      ]
     },
     "execution_count": 129,
     "metadata": {},
     "output_type": "execute_result"
    },
    {
     "data": {
      "image/png": "[encoded data removed]",
      "text/plain": [
       "<Figure size 432x288 with 1 Axes>"
      ]
     },
     "metadata": {
      "needs_background": "light"
     },
     "output_type": "display_data"
    }
   ],
   "source": [
    "status_df.sum().sort_values(ascending=False).head(15).plot(kind='barh')"
   ]
  },
  {
   "cell_type": "markdown",
   "id": "de5984e0-b63f-4d5d-b121-0362cc715893",
   "metadata": {},
   "source": [
    "### Count of popular words"
   ]
  },
  {
   "cell_type": "code",
   "execution_count": 215,
   "id": "fe371499-8246-401b-85a6-5595d2569697",
   "metadata": {},
   "outputs": [
    {
     "data": {
      "text/plain": [
       "38"
      ]
     },
     "execution_count": 215,
     "metadata": {},
     "output_type": "execute_result"
    }
   ],
   "source": [
    "HappyLA = status_LA[status_LA['selftext'].str.contains(\"happy\")]\n",
    "len(HappyLA['selftext'])"
   ]
  },
  {
   "cell_type": "code",
   "execution_count": 216,
   "id": "4946a52c-3251-4927-8d60-d4d9d0b7834b",
   "metadata": {},
   "outputs": [
    {
     "data": {
      "text/plain": [
       "32"
      ]
     },
     "execution_count": 216,
     "metadata": {},
     "output_type": "execute_result"
    }
   ],
   "source": [
    "HappyNYC = status_NYC[status_NYC['selftext'].str.contains(\"happy\")]\n",
    "len(HappyNYC['selftext'])"
   ]
  },
  {
   "cell_type": "code",
   "execution_count": 217,
   "id": "293faae5-f7d3-4a04-ae41-e191cdc31e64",
   "metadata": {},
   "outputs": [
    {
     "data": {
      "text/plain": [
       "94"
      ]
     },
     "execution_count": 217,
     "metadata": {},
     "output_type": "execute_result"
    }
   ],
   "source": [
    "SadLA = status_LA[status_LA['selftext'].str.contains(\"sad\")]\n",
    "len(SadLA['selftext'])"
   ]
  },
  {
   "cell_type": "code",
   "execution_count": 218,
   "id": "45107821-d374-4f01-9019-c14c665d9448",
   "metadata": {},
   "outputs": [
    {
     "data": {
      "text/plain": [
       "22"
      ]
     },
     "execution_count": 218,
     "metadata": {},
     "output_type": "execute_result"
    }
   ],
   "source": [
    "SadNYC = status_NYC[status_NYC['selftext'].str.contains(\"sad\")]\n",
    "len(SadNYC['selftext'])"
   ]
  },
  {
   "cell_type": "code",
   "execution_count": 219,
   "id": "598067d6-ecf0-47ec-a1c3-74df9ed48fb7",
   "metadata": {},
   "outputs": [
    {
     "data": {
      "text/plain": [
       "306"
      ]
     },
     "execution_count": 219,
     "metadata": {},
     "output_type": "execute_result"
    }
   ],
   "source": [
    "LoveLA = status_LA[status_LA['selftext'].str.contains(\"love\")]\n",
    "len(LoveLA['selftext'])"
   ]
  },
  {
   "cell_type": "code",
   "execution_count": 220,
   "id": "c9ab5602-1e21-4e81-8cbb-71fd0843a0b0",
   "metadata": {},
   "outputs": [
    {
     "data": {
      "text/plain": [
       "189"
      ]
     },
     "execution_count": 220,
     "metadata": {},
     "output_type": "execute_result"
    }
   ],
   "source": [
    "LoveNYC = status_NYC[status_NYC['selftext'].str.contains(\"love\")]\n",
    "len(LoveNYC['selftext'])"
   ]
  },
  {
   "cell_type": "code",
   "execution_count": 257,
   "id": "0f823881-d565-410e-9906-c81b882cff73",
   "metadata": {},
   "outputs": [
    {
     "data": {
      "text/plain": [
       "55"
      ]
     },
     "execution_count": 257,
     "metadata": {},
     "output_type": "execute_result"
    }
   ],
   "source": [
    "HateNYC = status_NYC[status_NYC['selftext'].str.contains(\"hate\")]\n",
    "len(HateNYC['selftext'])"
   ]
  },
  {
   "cell_type": "code",
   "execution_count": 223,
   "id": "9fc79918-dd3f-4ec7-b4d4-dcaf3ae6fb22",
   "metadata": {},
   "outputs": [
    {
     "data": {
      "text/plain": [
       "75"
      ]
     },
     "execution_count": 223,
     "metadata": {},
     "output_type": "execute_result"
    }
   ],
   "source": [
    "HateLA = status_LA[status_LA['selftext'].str.contains(\"hate\")]\n",
    "len(HateLA['selftext'])"
   ]
  },
  {
   "cell_type": "code",
   "execution_count": 252,
   "id": "b8961a48-fd47-4fb1-8bfc-6aebaaa45c79",
   "metadata": {},
   "outputs": [
    {
     "data": {
      "text/plain": [
       "192"
      ]
     },
     "execution_count": 252,
     "metadata": {},
     "output_type": "execute_result"
    }
   ],
   "source": [
    "RemovedLA = status_LA[status_LA['selftext'].str.contains(\"removed\")]\n",
    "len(RemovedLA['selftext'])"
   ]
  },
  {
   "cell_type": "code",
   "execution_count": 253,
   "id": "bef6c648-7ad2-4e0d-a870-676ab272ce0c",
   "metadata": {},
   "outputs": [
    {
     "data": {
      "text/plain": [
       "818"
      ]
     },
     "execution_count": 253,
     "metadata": {},
     "output_type": "execute_result"
    }
   ],
   "source": [
    "RemovedNYC = status_NYC[status_NYC['selftext'].str.contains(\"removed\")]\n",
    "len(RemovedNYC['selftext'])"
   ]
  },
  {
   "cell_type": "code",
   "execution_count": 251,
   "id": "406435f5-9bef-40c0-a06d-d335ea589c41",
   "metadata": {},
   "outputs": [
    {
     "data": {
      "text/plain": [
       "(3991, 2)"
      ]
     },
     "execution_count": 251,
     "metadata": {},
     "output_type": "execute_result"
    }
   ],
   "source": [
    "status_NYC.shape"
   ]
  },
  {
   "cell_type": "markdown",
   "id": "b2e99331-5cfd-4b98-a1b8-46da39772158",
   "metadata": {},
   "source": [
    "### Make a dataframe"
   ]
  },
  {
   "cell_type": "code",
   "execution_count": 239,
   "id": "024684a3-0a6e-45e2-b13d-04af11c44b6f",
   "metadata": {},
   "outputs": [],
   "source": [
    "df=pd.DataFrame({\"NYC\":[32,22,189,55],\n",
    "                 \"LA\":[38,94,306,75]})"
   ]
  },
  {
   "cell_type": "code",
   "execution_count": 240,
   "id": "70a6f2fa-8b67-46b6-9d4c-71f33983c0cc",
   "metadata": {},
   "outputs": [
    {
     "data": {
      "text/html": [
       "<div>\n",
       "<style scoped>\n",
       "    .dataframe tbody tr th:only-of-type {\n",
       "        vertical-align: middle;\n",
       "    }\n",
       "\n",
       "    .dataframe tbody tr th {\n",
       "        vertical-align: top;\n",
       "    }\n",
       "\n",
       "    .dataframe thead th {\n",
       "        text-align: right;\n",
       "    }\n",
       "</style>\n",
       "<table border=\"1\" class=\"dataframe\">\n",
       "  <thead>\n",
       "    <tr style=\"text-align: right;\">\n",
       "      <th></th>\n",
       "      <th>NYC</th>\n",
       "      <th>LA</th>\n",
       "    </tr>\n",
       "  </thead>\n",
       "  <tbody>\n",
       "    <tr>\n",
       "      <th>Happy</th>\n",
       "      <td>32</td>\n",
       "      <td>38</td>\n",
       "    </tr>\n",
       "    <tr>\n",
       "      <th>Sad</th>\n",
       "      <td>22</td>\n",
       "      <td>94</td>\n",
       "    </tr>\n",
       "    <tr>\n",
       "      <th>Love</th>\n",
       "      <td>189</td>\n",
       "      <td>306</td>\n",
       "    </tr>\n",
       "    <tr>\n",
       "      <th>Hate</th>\n",
       "      <td>55</td>\n",
       "      <td>75</td>\n",
       "    </tr>\n",
       "  </tbody>\n",
       "</table>\n",
       "</div>"
      ],
      "text/plain": [
       "       NYC   LA\n",
       "Happy   32   38\n",
       "Sad     22   94\n",
       "Love   189  306\n",
       "Hate    55   75"
      ]
     },
     "execution_count": 240,
     "metadata": {},
     "output_type": "execute_result"
    }
   ],
   "source": [
    "df.index = ['Happy', 'Sad', 'Love', 'Hate']\n",
    "df"
   ]
  },
  {
   "cell_type": "markdown",
   "id": "c53f55d3-451d-4bc3-9de1-071aa33c6c00",
   "metadata": {},
   "source": [
    "### most common bigrams LA"
   ]
  },
  {
   "cell_type": "code",
   "execution_count": 130,
   "id": "94748e93-8e09-46c0-92e7-631b35d5694d",
   "metadata": {},
   "outputs": [],
   "source": [
    "test=AskLosAngeles_df['selftext'].dropna()"
   ]
  },
  {
   "cell_type": "code",
   "execution_count": 131,
   "id": "2d4dd6bb-6785-42dc-9234-a8584c45ec2a",
   "metadata": {},
   "outputs": [
    {
     "data": {
      "text/plain": [
       "los angeles       277\n",
       "does know         196\n",
       "santa monica      150\n",
       "don know          138\n",
       "thanks advance    125\n",
       "amp x200b         121\n",
       "don want          109\n",
       "moving la         107\n",
       "https www          80\n",
       "feel like          73\n",
       "let know           73\n",
       "west hollywood     70\n",
       "west la            66\n",
       "la area            65\n",
       "just moved         63\n",
       "dtype: int64"
      ]
     },
     "execution_count": 131,
     "metadata": {},
     "output_type": "execute_result"
    }
   ],
   "source": [
    "bigrams_cv = CountVectorizer(stop_words='english',ngram_range=(2,2), min_df=3)\n",
    "bigrams_cv.fit(test)\n",
    "\n",
    "bigrams = bigrams_cv.transform(test)\n",
    "\n",
    "bigrams_df = pd.DataFrame(bigrams.todense(), columns=bigrams_cv.get_feature_names())\n",
    "\n",
    "bigrams_df.sum().sort_values(ascending=False).head(15)"
   ]
  },
  {
   "cell_type": "markdown",
   "id": "9fc4717c-c61f-46f1-9e07-ce3c5d2ca21d",
   "metadata": {},
   "source": [
    "### most common bigrams NYC"
   ]
  },
  {
   "cell_type": "code",
   "execution_count": 134,
   "id": "c38bbee3-9b79-4db3-bd31-627f3f223dae",
   "metadata": {},
   "outputs": [],
   "source": [
    "test=AskNYC_df['selftext'].dropna()"
   ]
  },
  {
   "cell_type": "code",
   "execution_count": 135,
   "id": "98913030-aad5-4691-bf7b-f9edceefcb40",
   "metadata": {},
   "outputs": [
    {
     "data": {
      "text/plain": [
       "new york          184\n",
       "does know         132\n",
       "don know          117\n",
       "don want          101\n",
       "amp x200b          96\n",
       "https www          93\n",
       "thanks advance     82\n",
       "central park       69\n",
       "just moved         59\n",
       "feel like          54\n",
       "let know           54\n",
       "years ago          51\n",
       "just want          46\n",
       "ve seen            41\n",
       "imgur com          39\n",
       "dtype: int64"
      ]
     },
     "execution_count": 135,
     "metadata": {},
     "output_type": "execute_result"
    }
   ],
   "source": [
    "bigrams_cv = CountVectorizer(stop_words='english',ngram_range=(2,2), min_df=3)\n",
    "bigrams_cv.fit(test)\n",
    "\n",
    "bigrams = bigrams_cv.transform(test)\n",
    "\n",
    "bigrams_df = pd.DataFrame(bigrams.todense(), columns=bigrams_cv.get_feature_names())\n",
    "\n",
    "bigrams_df.sum().sort_values(ascending=False).head(15)"
   ]
  },
  {
   "cell_type": "markdown",
   "id": "2663b361-6c3d-4b95-84fb-a2dee81a5fa2",
   "metadata": {},
   "source": [
    "### Comparison of removed subreddit posts"
   ]
  },
  {
   "cell_type": "code",
   "execution_count": 244,
   "id": "8bca0ff1-b1c8-49a1-9ba2-9be183104a00",
   "metadata": {},
   "outputs": [],
   "source": [
    "pd.set_option(\"display.max_rows\", 100)"
   ]
  },
  {
   "cell_type": "code",
   "execution_count": 248,
   "id": "c0d168d2-cd31-4d8a-99d4-54b80e774374",
   "metadata": {},
   "outputs": [
    {
     "data": {
      "text/plain": [
       "0     Here’s an odd one, my lease is up tomorrow and...\n",
       "1     I’m going to Murray Hill queens and public tra...\n",
       "2                                             [removed]\n",
       "3     What's good NY,\\n\\nMy apartment has constructi...\n",
       "4     Hey, I live in Mount Vernon now and grew up in...\n",
       "5     Does anyone have any idea when (or if, but I r...\n",
       "6     Hey guys!\\n\\nI won the DV lottery this year &a...\n",
       "7     I'll make it short and sweet, 3 questions (eit...\n",
       "8                                             [removed]\n",
       "9     I've been looking for places that I could poss...\n",
       "10                                            [removed]\n",
       "11    Hello,\\n\\nPlease forgive me if I'm posting in ...\n",
       "12    Any recommendations of stores to buy winter cl...\n",
       "13    What's the best way to walk around or explore ...\n",
       "14    I went to a talk at the Brooklyn Museum last w...\n",
       "15                                            [removed]\n",
       "16                                            [removed]\n",
       "17    Any pickleball enthusiasts looking for partner...\n",
       "18    I want to start bringing my dog on the subway ...\n",
       "19    Ive been really debating asking this, because ...\n",
       "20    Moving to NYC next year with my 6 year old. I'...\n",
       "21                                            [removed]\n",
       "22    Hi! I’m a Latina girl in her 20’s and I’m goin...\n",
       "23                                            [removed]\n",
       "24                                            [removed]\n",
       "25    I've been living in a 20th floor midtown apart...\n",
       "26    Been living here 20 years. I don't care so muc...\n",
       "27                                            [removed]\n",
       "28    If so, why? How was the food/experience? Would...\n",
       "29                                            [removed]\n",
       "30    I just signed a lease starting in mid-October,...\n",
       "31                                                     \n",
       "32                                                     \n",
       "33                                            [removed]\n",
       "34    Hi,\\n\\nLong story short: I have an eviction fr...\n",
       "35    I’m 8 months deep in a lease, with only a few ...\n",
       "36                                            [removed]\n",
       "37    Hi any tips on moving to NYC from LA? Like i w...\n",
       "38                                            [removed]\n",
       "39    So after driving in from Jersey for a month I ...\n",
       "40                                            [removed]\n",
       "41                                            [removed]\n",
       "42    Haven't seen or heard anything about new pot s...\n",
       "43                                            [removed]\n",
       "44                                            [removed]\n",
       "45                                            [removed]\n",
       "46    Title says it all. My boyfriend's family comes...\n",
       "47                                            [removed]\n",
       "48    So I just moved out of an apartment last month...\n",
       "49                                            [removed]\n",
       "50                                            [removed]\n",
       "51    Just wondering if OMNY works with bus transfer...\n",
       "52                                            [removed]\n",
       "53    Looking for salons preferably in Brooklyn that...\n",
       "54                                            [removed]\n",
       "55    Does anyone know of any conversation groups or...\n",
       "56                                            [removed]\n",
       "57    Hi! I'm gonna be heading to NYC soon and I wou...\n",
       "58                                            [removed]\n",
       "59                                            [removed]\n",
       "60    I am looking at a building's 311 complaint his...\n",
       "61                                            [removed]\n",
       "62                                            [removed]\n",
       "63    Hurricane Henri made a hole in our ceiling sin...\n",
       "64                                            [removed]\n",
       "65    Taking my boyfriend to nyc for his birthday ea...\n",
       "66    I signed a lease, paid the money, got the keys...\n",
       "67                                            [removed]\n",
       "68                                            [removed]\n",
       "69    I’m a college student in NYC and have applied ...\n",
       "70                                            [removed]\n",
       "71    I've seen so many grocery delivery app service...\n",
       "72                                            [removed]\n",
       "73    \\nHey all! I’ve been trying to fill out this C...\n",
       "74                                            [removed]\n",
       "75                                            [removed]\n",
       "76    I'm in Washington heights and curious to if an...\n",
       "77    What are the best full size (11v11) turf socce...\n",
       "78                                            [removed]\n",
       "79    Was riding my bike on Park Avenue in the 50s a...\n",
       "80    Hey so im going from new york to another state...\n",
       "81                                            [removed]\n",
       "82                                            [removed]\n",
       "83                                            [removed]\n",
       "84    Long story short, I recently moved from around...\n",
       "85                                            [removed]\n",
       "86    Does anyone have a good recommendation for get...\n",
       "87                                            [removed]\n",
       "88    I've been dealing with a mislabeled con ed ele...\n",
       "89                                            [removed]\n",
       "90                                            [removed]\n",
       "91                                            [removed]\n",
       "92    Hi! We will be staying in NY for a month and o...\n",
       "93                                                     \n",
       "94    they're out for my blood and it's driving me u...\n",
       "95    Hi all, I've been using Time warner cable/Spec...\n",
       "96                                                     \n",
       "97                                            [removed]\n",
       "98                                            [removed]\n",
       "Name: selftext, dtype: object"
      ]
     },
     "execution_count": 248,
     "metadata": {},
     "output_type": "execute_result"
    }
   ],
   "source": [
    "AskNYC_df['selftext'][0:99]"
   ]
  },
  {
   "cell_type": "code",
   "execution_count": 247,
   "id": "e2f8e44e-a3ab-4943-a5aa-dac2fd44ae86",
   "metadata": {},
   "outputs": [
    {
     "data": {
      "text/plain": [
       "0     What are the best bars in a Thursday night in ...\n",
       "1     Any cafe or boba shops suggestions that is ope...\n",
       "2     It's me my mom and my sister, my mom has a cle...\n",
       "3     Ballot measure? Asking the county themselves t...\n",
       "4     Do you have a real estate agent that you love?...\n",
       "5     I moved to LA in December and I honestly think...\n",
       "6     I’ve been looking to move to the west side or ...\n",
       "7     I recently started helping at a nonprofit and ...\n",
       "8     I’ll be going to an event this Friday night at...\n",
       "9     Anyone know of a professional who will come to...\n",
       "10    Basically, as the title says. There's a concer...\n",
       "11    Thinking about moving to LA and found this sup...\n",
       "12    I am planning a 40th birthday for my partner. ...\n",
       "13    I am putting together a Halloween event for th...\n",
       "14    Don’t get me wrong, I can admire a well execut...\n",
       "15    Big group of people coming in a few weeks, mos...\n",
       "16    What are *your* top 5 reasons you live in LAWh...\n",
       "17    do you have any recs? would love to do somethi...\n",
       "18      Favorite spots for decent food, cheap gas, etc?\n",
       "19    My boyfriend is turning 30 in early November a...\n",
       "20    Hi all! Grateful to have found this community ...\n",
       "21    Does anybody have any recommendations for a Bu...\n",
       "22    where do young professionals live? downtown la...\n",
       "23    Hello\\n\\nMy license expired yesterday and I ca...\n",
       "24    Hey all - going to a concert at Hollywood Fore...\n",
       "25    Was in Topanga and went north on the beach, th...\n",
       "26    Looking for Lawyer recommendations or Advice.\\...\n",
       "27    Hi all, I’m facing a unique situation with wor...\n",
       "28    On weekends I usually ride my bike from my apt...\n",
       "29    I just went through my closet and there are a ...\n",
       "30    where should I park? just wanna walk around th...\n",
       "31    Im visiting Los Angeles in November with my ni...\n",
       "32    Trying to find spots where I can eat with both...\n",
       "33    Every time I drive through the Grapevine, I've...\n",
       "34    Any advice for a hopeful EV driver? I'm a rent...\n",
       "35    Want a free standard parking pass? I went yest...\n",
       "36    Maybe it’s just really early &amp; my brain is...\n",
       "37    Not good. EMS on scene and the Citizen app has...\n",
       "38    I'm going to move to SoCal/greater LA Area nex...\n",
       "39    Fat Beer Week starts this wednesday 9/29. It's...\n",
       "40    How would you want to draw your own district m...\n",
       "41    Can anyone from the Los Angeles area recommend...\n",
       "42    I am coming from Arizona with one of my friend...\n",
       "43    I’ve come to the conclusion that I lack the mo...\n",
       "44    Can anybody  recommend a trustworthy motorcycl...\n",
       "45    I’m really ignorant when it comes to wine and ...\n",
       "46    I recently got out of a long term relationship...\n",
       "47    Im basically pulling my hair out trying to fig...\n",
       "48    I will have to go to a superior court in LA co...\n",
       "49     \\n\\nAre there any Dim Sum Cart places left wh...\n",
       "50    if i bought a ticket for LA to riverside but t...\n",
       "51    I am visting over the weekend and want to watc...\n",
       "52                                            [removed]\n",
       "53    Like what do you like or dislike about what th...\n",
       "54    Hi so I’ll be in LA for 3 nights and was wonde...\n",
       "55    Hello, I’m thinking of trying to learn how to ...\n",
       "56                                            [removed]\n",
       "57    I’m due for a professional portrait and would ...\n",
       "58    Has anyone here been in the past? It’s this we...\n",
       "59    How did you find your housing? \\n\\nHow much ar...\n",
       "60    There seems to be many different avenues to ge...\n",
       "61    Got my sneakers filthy, gotta clean them rip. ...\n",
       "62    Ok, I know this is a broad question but what a...\n",
       "63    I want to take my friend out for her birthday....\n",
       "64    Is there a public place I could bring my guita...\n",
       "65                                            [removed]\n",
       "66    I been wanting to go for some time but during ...\n",
       "67    Moving out of a one bedroom 600sqft apt and wo...\n",
       "68    About to go on a 2 week trip to LA for the fir...\n",
       "69    I'm falling on to my plan B because it seems l...\n",
       "70    Hi everyone, I am a 24 y old male living in we...\n",
       "71    Or has anyone already done it? I got an email ...\n",
       "72    This past summer, I (22F) had a virtual intern...\n",
       "73    Anyone in Los Angeles??👇\\nPls message me ! Or ...\n",
       "74    The number of ads looking for only female room...\n",
       "75                                            [removed]\n",
       "76    I’m looking for a monthly parking for rent in ...\n",
       "77    Hey everyone! My girlfriend and I just moved t...\n",
       "78                                                    ?\n",
       "79    What's the best flower delivery? I saw people ...\n",
       "80    Any tips on living cheaply in Los Angeles? \\n\\...\n",
       "81    Hello I went in to buy stuff for my dad bday, ...\n",
       "82    Got my first cubicle job and wow can that be s...\n",
       "83    Any suggestions of good medical alert bracelet...\n",
       "84    Basically the title, where can I recycle a dis...\n",
       "85    Any meat eaters left out here? I swear when I ...\n",
       "86    My gf and I want to move somewhere with cheape...\n",
       "87    I'm a freelance photographer who just moved to...\n",
       "88    We were approved for rent relief. It still say...\n",
       "89    Anyone got good places for unlicensed dispensa...\n",
       "90    I'm looking to get a 42 1/2 inch circle cut in...\n",
       "91    We have a townhouse complex next door to us. T...\n",
       "92    I’m a SGV native heading into the city to pick...\n",
       "93                  ?the closer to los feliz the better\n",
       "94    i was living in a tent traveling the country l...\n",
       "95    Hi everyone. I been thinking about moving to L...\n",
       "96    Hello,\\n\\nAny recommendation for a barber/salo...\n",
       "97    One of my friends found termites in his home. ...\n",
       "98    Hi I’m looking for a ticket for today. Does an...\n",
       "Name: selftext, dtype: object"
      ]
     },
     "execution_count": 247,
     "metadata": {},
     "output_type": "execute_result"
    }
   ],
   "source": [
    "AskLosAngeles_df['selftext'][0:99]"
   ]
  },
  {
   "cell_type": "markdown",
   "id": "8b79f125-4636-4cc1-aa10-b71ec03c44d1",
   "metadata": {},
   "source": [
    "### Sentiment Analysis NYC"
   ]
  },
  {
   "cell_type": "code",
   "execution_count": 137,
   "id": "bcc67819-c52b-41a6-957e-bd719771c770",
   "metadata": {},
   "outputs": [],
   "source": [
    "sia = SentimentIntensityAnalyzer()"
   ]
  },
  {
   "cell_type": "code",
   "execution_count": 149,
   "id": "54cb6c51-d7f4-4df4-a5a8-199d804e14b6",
   "metadata": {},
   "outputs": [
    {
     "data": {
      "text/plain": [
       "(4000, 5)"
      ]
     },
     "execution_count": 149,
     "metadata": {},
     "output_type": "execute_result"
    }
   ],
   "source": [
    "new.shape"
   ]
  },
  {
   "cell_type": "code",
   "execution_count": 150,
   "id": "2fb47f59-71cd-470b-bf63-e5c70aa47d2e",
   "metadata": {},
   "outputs": [
    {
     "data": {
      "text/plain": [
       "(4000, 69)"
      ]
     },
     "execution_count": 150,
     "metadata": {},
     "output_type": "execute_result"
    }
   ],
   "source": [
    "AskNYC_df.shape"
   ]
  },
  {
   "cell_type": "code",
   "execution_count": 139,
   "id": "c9f79044-3a1d-4fc7-bca6-8e04b5b0e859",
   "metadata": {},
   "outputs": [],
   "source": [
    "string = [str(review) for review in AskNYC_df['selftext']]"
   ]
  },
  {
   "cell_type": "code",
   "execution_count": 140,
   "id": "d85410c5-ab18-47eb-ad57-c4a9f92cec9c",
   "metadata": {
    "tags": []
   },
   "outputs": [],
   "source": [
    "sia_list = [sia.polarity_scores(review) for review in string]"
   ]
  },
  {
   "cell_type": "code",
   "execution_count": 141,
   "id": "c2e7096e-e8d2-4411-a512-0b4bd290acac",
   "metadata": {},
   "outputs": [
    {
     "data": {
      "text/plain": [
       "{'neg': 0.037, 'neu': 0.893, 'pos': 0.07, 'compound': 0.8121}"
      ]
     },
     "execution_count": 141,
     "metadata": {},
     "output_type": "execute_result"
    }
   ],
   "source": [
    "sia_list[6]"
   ]
  },
  {
   "cell_type": "code",
   "execution_count": 154,
   "id": "9b7845c6-1cd8-487d-b652-9d2d8d18e91c",
   "metadata": {},
   "outputs": [
    {
     "data": {
      "text/html": [
       "<div>\n",
       "<style scoped>\n",
       "    .dataframe tbody tr th:only-of-type {\n",
       "        vertical-align: middle;\n",
       "    }\n",
       "\n",
       "    .dataframe tbody tr th {\n",
       "        vertical-align: top;\n",
       "    }\n",
       "\n",
       "    .dataframe thead th {\n",
       "        text-align: right;\n",
       "    }\n",
       "</style>\n",
       "<table border=\"1\" class=\"dataframe\">\n",
       "  <thead>\n",
       "    <tr style=\"text-align: right;\">\n",
       "      <th></th>\n",
       "      <th>neg</th>\n",
       "      <th>neu</th>\n",
       "      <th>pos</th>\n",
       "      <th>compound</th>\n",
       "    </tr>\n",
       "  </thead>\n",
       "  <tbody>\n",
       "    <tr>\n",
       "      <th>0</th>\n",
       "      <td>0.076</td>\n",
       "      <td>0.847</td>\n",
       "      <td>0.077</td>\n",
       "      <td>0.6369</td>\n",
       "    </tr>\n",
       "    <tr>\n",
       "      <th>1</th>\n",
       "      <td>0.000</td>\n",
       "      <td>0.912</td>\n",
       "      <td>0.088</td>\n",
       "      <td>0.4404</td>\n",
       "    </tr>\n",
       "    <tr>\n",
       "      <th>2</th>\n",
       "      <td>0.000</td>\n",
       "      <td>1.000</td>\n",
       "      <td>0.000</td>\n",
       "      <td>0.0000</td>\n",
       "    </tr>\n",
       "  </tbody>\n",
       "</table>\n",
       "</div>"
      ],
      "text/plain": [
       "     neg    neu    pos  compound\n",
       "0  0.076  0.847  0.077    0.6369\n",
       "1  0.000  0.912  0.088    0.4404\n",
       "2  0.000  1.000  0.000    0.0000"
      ]
     },
     "execution_count": 154,
     "metadata": {},
     "output_type": "execute_result"
    }
   ],
   "source": [
    "new = pd.DataFrame.from_dict(sia_list)\n",
    "new.head(3)"
   ]
  },
  {
   "cell_type": "code",
   "execution_count": 158,
   "id": "923b6767-578f-4174-a301-faaa197f9f5c",
   "metadata": {},
   "outputs": [
    {
     "data": {
      "text/plain": [
       "RangeIndex(start=0, stop=4000, step=1)"
      ]
     },
     "execution_count": 158,
     "metadata": {},
     "output_type": "execute_result"
    }
   ],
   "source": [
    "new.index"
   ]
  },
  {
   "cell_type": "code",
   "execution_count": 159,
   "id": "af02efe9-7d10-4f5f-a2d9-483d21cc2007",
   "metadata": {},
   "outputs": [
    {
     "data": {
      "text/plain": [
       "Int64Index([ 0,  1,  2,  3,  4,  5,  6,  7,  8,  9,\n",
       "            ...\n",
       "            90, 91, 92, 93, 94, 95, 96, 97, 98, 99],\n",
       "           dtype='int64', length=4000)"
      ]
     },
     "execution_count": 159,
     "metadata": {},
     "output_type": "execute_result"
    }
   ],
   "source": [
    "AskNYC_df.index"
   ]
  },
  {
   "cell_type": "code",
   "execution_count": 146,
   "id": "d22006a1-2684-424b-97d5-caa345c22bb7",
   "metadata": {},
   "outputs": [
    {
     "data": {
      "text/html": [
       "<div>\n",
       "<style scoped>\n",
       "    .dataframe tbody tr th:only-of-type {\n",
       "        vertical-align: middle;\n",
       "    }\n",
       "\n",
       "    .dataframe tbody tr th {\n",
       "        vertical-align: top;\n",
       "    }\n",
       "\n",
       "    .dataframe thead th {\n",
       "        text-align: right;\n",
       "    }\n",
       "</style>\n",
       "<table border=\"1\" class=\"dataframe\">\n",
       "  <thead>\n",
       "    <tr style=\"text-align: right;\">\n",
       "      <th></th>\n",
       "      <th>all_awardings</th>\n",
       "      <th>allow_live_comments</th>\n",
       "      <th>author</th>\n",
       "      <th>author_flair_css_class</th>\n",
       "      <th>author_flair_richtext</th>\n",
       "      <th>author_flair_text</th>\n",
       "      <th>author_flair_type</th>\n",
       "      <th>author_fullname</th>\n",
       "      <th>author_is_blocked</th>\n",
       "      <th>author_patreon_flair</th>\n",
       "      <th>...</th>\n",
       "      <th>removed_by_category</th>\n",
       "      <th>post_hint</th>\n",
       "      <th>preview</th>\n",
       "      <th>author_flair_background_color</th>\n",
       "      <th>author_flair_text_color</th>\n",
       "      <th>edited</th>\n",
       "      <th>banned_by</th>\n",
       "      <th>author_cakeday</th>\n",
       "      <th>link_flair_template_id</th>\n",
       "      <th>link_flair_text</th>\n",
       "    </tr>\n",
       "  </thead>\n",
       "  <tbody>\n",
       "    <tr>\n",
       "      <th>0</th>\n",
       "      <td>[]</td>\n",
       "      <td>False</td>\n",
       "      <td>ApartmentQuestion5</td>\n",
       "      <td>None</td>\n",
       "      <td>[]</td>\n",
       "      <td>None</td>\n",
       "      <td>text</td>\n",
       "      <td>t2_8q93ft6k</td>\n",
       "      <td>False</td>\n",
       "      <td>False</td>\n",
       "      <td>...</td>\n",
       "      <td>NaN</td>\n",
       "      <td>NaN</td>\n",
       "      <td>NaN</td>\n",
       "      <td>NaN</td>\n",
       "      <td>NaN</td>\n",
       "      <td>NaN</td>\n",
       "      <td>NaN</td>\n",
       "      <td>NaN</td>\n",
       "      <td>NaN</td>\n",
       "      <td>NaN</td>\n",
       "    </tr>\n",
       "    <tr>\n",
       "      <th>1</th>\n",
       "      <td>[]</td>\n",
       "      <td>False</td>\n",
       "      <td>dammets</td>\n",
       "      <td>None</td>\n",
       "      <td>[]</td>\n",
       "      <td>None</td>\n",
       "      <td>text</td>\n",
       "      <td>t2_p3iwm</td>\n",
       "      <td>False</td>\n",
       "      <td>False</td>\n",
       "      <td>...</td>\n",
       "      <td>NaN</td>\n",
       "      <td>NaN</td>\n",
       "      <td>NaN</td>\n",
       "      <td>NaN</td>\n",
       "      <td>NaN</td>\n",
       "      <td>NaN</td>\n",
       "      <td>NaN</td>\n",
       "      <td>NaN</td>\n",
       "      <td>NaN</td>\n",
       "      <td>NaN</td>\n",
       "    </tr>\n",
       "    <tr>\n",
       "      <th>2</th>\n",
       "      <td>[]</td>\n",
       "      <td>False</td>\n",
       "      <td>uncertainness</td>\n",
       "      <td>None</td>\n",
       "      <td>[]</td>\n",
       "      <td>None</td>\n",
       "      <td>text</td>\n",
       "      <td>t2_3tlw4</td>\n",
       "      <td>False</td>\n",
       "      <td>False</td>\n",
       "      <td>...</td>\n",
       "      <td>reddit</td>\n",
       "      <td>NaN</td>\n",
       "      <td>NaN</td>\n",
       "      <td>NaN</td>\n",
       "      <td>NaN</td>\n",
       "      <td>NaN</td>\n",
       "      <td>NaN</td>\n",
       "      <td>NaN</td>\n",
       "      <td>NaN</td>\n",
       "      <td>NaN</td>\n",
       "    </tr>\n",
       "  </tbody>\n",
       "</table>\n",
       "<p>3 rows × 69 columns</p>\n",
       "</div>"
      ],
      "text/plain": [
       "  all_awardings  allow_live_comments              author  \\\n",
       "0            []                False  ApartmentQuestion5   \n",
       "1            []                False             dammets   \n",
       "2            []                False       uncertainness   \n",
       "\n",
       "  author_flair_css_class author_flair_richtext author_flair_text  \\\n",
       "0                   None                    []              None   \n",
       "1                   None                    []              None   \n",
       "2                   None                    []              None   \n",
       "\n",
       "  author_flair_type author_fullname  author_is_blocked author_patreon_flair  \\\n",
       "0              text     t2_8q93ft6k              False                False   \n",
       "1              text        t2_p3iwm              False                False   \n",
       "2              text        t2_3tlw4              False                False   \n",
       "\n",
       "   ... removed_by_category post_hint  preview  author_flair_background_color  \\\n",
       "0  ...                 NaN       NaN      NaN                            NaN   \n",
       "1  ...                 NaN       NaN      NaN                            NaN   \n",
       "2  ...              reddit       NaN      NaN                            NaN   \n",
       "\n",
       "   author_flair_text_color edited banned_by author_cakeday  \\\n",
       "0                      NaN    NaN       NaN            NaN   \n",
       "1                      NaN    NaN       NaN            NaN   \n",
       "2                      NaN    NaN       NaN            NaN   \n",
       "\n",
       "  link_flair_template_id  link_flair_text  \n",
       "0                    NaN              NaN  \n",
       "1                    NaN              NaN  \n",
       "2                    NaN              NaN  \n",
       "\n",
       "[3 rows x 69 columns]"
      ]
     },
     "execution_count": 146,
     "metadata": {},
     "output_type": "execute_result"
    }
   ],
   "source": [
    "AskNYC_df.head(3)"
   ]
  },
  {
   "cell_type": "code",
   "execution_count": 160,
   "id": "499af6db-e9eb-4e01-ac50-ee2cdd8c54b3",
   "metadata": {},
   "outputs": [],
   "source": [
    "test = AskNYC_df.reset_index(drop=True)"
   ]
  },
  {
   "cell_type": "code",
   "execution_count": 161,
   "id": "80b68fac-f61d-4bfa-8b13-1ed94df1df6a",
   "metadata": {},
   "outputs": [],
   "source": [
    "NYC_result = pd.concat([test, new], axis=1, join='inner')"
   ]
  },
  {
   "cell_type": "code",
   "execution_count": 162,
   "id": "60f6822e-67cc-42f4-ab6b-c43616bca4c6",
   "metadata": {},
   "outputs": [],
   "source": [
    "NYC_result['comp_score'] = NYC_result['compound'].apply(lambda c: 'pos' if c >=0 else 'neg')"
   ]
  },
  {
   "cell_type": "code",
   "execution_count": 164,
   "id": "c20030a1-0895-4783-9f03-b0b96f856551",
   "metadata": {},
   "outputs": [
    {
     "data": {
      "text/plain": [
       "pos    0.853\n",
       "neg    0.147\n",
       "Name: comp_score, dtype: float64"
      ]
     },
     "execution_count": 164,
     "metadata": {},
     "output_type": "execute_result"
    }
   ],
   "source": [
    "NYC_result['comp_score'].value_counts(normalize=True)"
   ]
  },
  {
   "cell_type": "markdown",
   "id": "5d006584-5b84-4098-9bcb-4177ac0f1b15",
   "metadata": {},
   "source": [
    "### Sentiment Analysis LA"
   ]
  },
  {
   "cell_type": "code",
   "execution_count": 137,
   "id": "a1719704-f656-4cc9-913c-69117f03874f",
   "metadata": {},
   "outputs": [],
   "source": [
    "sia = SentimentIntensityAnalyzer()"
   ]
  },
  {
   "cell_type": "code",
   "execution_count": 149,
   "id": "6cbe444c-926c-41bb-b22c-da4b47beb9fb",
   "metadata": {},
   "outputs": [
    {
     "data": {
      "text/plain": [
       "(4000, 5)"
      ]
     },
     "execution_count": 149,
     "metadata": {},
     "output_type": "execute_result"
    }
   ],
   "source": [
    "new.shape"
   ]
  },
  {
   "cell_type": "code",
   "execution_count": 150,
   "id": "1f08e657-44bd-4fba-8cfa-d99373af222f",
   "metadata": {},
   "outputs": [
    {
     "data": {
      "text/plain": [
       "(4000, 69)"
      ]
     },
     "execution_count": 150,
     "metadata": {},
     "output_type": "execute_result"
    }
   ],
   "source": [
    "AskLosAngeles_df.shape"
   ]
  },
  {
   "cell_type": "code",
   "execution_count": 165,
   "id": "cfbeb9b2-77ac-48d7-8f5e-76ce16dd821b",
   "metadata": {},
   "outputs": [],
   "source": [
    "string = [str(review) for review in AskLosAngeles_df['selftext']]"
   ]
  },
  {
   "cell_type": "code",
   "execution_count": 166,
   "id": "37468792-c43d-4e60-8c91-3d1e80d6aa43",
   "metadata": {
    "tags": []
   },
   "outputs": [],
   "source": [
    "sia_list = [sia.polarity_scores(review) for review in string]"
   ]
  },
  {
   "cell_type": "code",
   "execution_count": 141,
   "id": "b42bf232-6820-434d-aab0-ce0d49226f2b",
   "metadata": {},
   "outputs": [
    {
     "data": {
      "text/plain": [
       "{'neg': 0.037, 'neu': 0.893, 'pos': 0.07, 'compound': 0.8121}"
      ]
     },
     "execution_count": 141,
     "metadata": {},
     "output_type": "execute_result"
    }
   ],
   "source": [
    "sia_list[6]"
   ]
  },
  {
   "cell_type": "code",
   "execution_count": 167,
   "id": "06e37344-5c3e-4e71-8a33-de3f07fbecd3",
   "metadata": {},
   "outputs": [
    {
     "data": {
      "text/html": [
       "<div>\n",
       "<style scoped>\n",
       "    .dataframe tbody tr th:only-of-type {\n",
       "        vertical-align: middle;\n",
       "    }\n",
       "\n",
       "    .dataframe tbody tr th {\n",
       "        vertical-align: top;\n",
       "    }\n",
       "\n",
       "    .dataframe thead th {\n",
       "        text-align: right;\n",
       "    }\n",
       "</style>\n",
       "<table border=\"1\" class=\"dataframe\">\n",
       "  <thead>\n",
       "    <tr style=\"text-align: right;\">\n",
       "      <th></th>\n",
       "      <th>neg</th>\n",
       "      <th>neu</th>\n",
       "      <th>pos</th>\n",
       "      <th>compound</th>\n",
       "    </tr>\n",
       "  </thead>\n",
       "  <tbody>\n",
       "    <tr>\n",
       "      <th>0</th>\n",
       "      <td>0.0</td>\n",
       "      <td>0.816</td>\n",
       "      <td>0.184</td>\n",
       "      <td>0.9521</td>\n",
       "    </tr>\n",
       "    <tr>\n",
       "      <th>1</th>\n",
       "      <td>0.0</td>\n",
       "      <td>0.793</td>\n",
       "      <td>0.207</td>\n",
       "      <td>0.7184</td>\n",
       "    </tr>\n",
       "    <tr>\n",
       "      <th>2</th>\n",
       "      <td>0.0</td>\n",
       "      <td>0.958</td>\n",
       "      <td>0.042</td>\n",
       "      <td>0.2144</td>\n",
       "    </tr>\n",
       "  </tbody>\n",
       "</table>\n",
       "</div>"
      ],
      "text/plain": [
       "   neg    neu    pos  compound\n",
       "0  0.0  0.816  0.184    0.9521\n",
       "1  0.0  0.793  0.207    0.7184\n",
       "2  0.0  0.958  0.042    0.2144"
      ]
     },
     "execution_count": 167,
     "metadata": {},
     "output_type": "execute_result"
    }
   ],
   "source": [
    "new = pd.DataFrame.from_dict(sia_list)\n",
    "new.head(3)"
   ]
  },
  {
   "cell_type": "code",
   "execution_count": 168,
   "id": "827ad7aa-3cb5-4e19-b892-395191e5567d",
   "metadata": {},
   "outputs": [],
   "source": [
    "test = AskLosAngeles_df.reset_index(drop=True)"
   ]
  },
  {
   "cell_type": "code",
   "execution_count": 169,
   "id": "ee5d2936-a6d7-4540-a273-45bf4779ac7f",
   "metadata": {},
   "outputs": [],
   "source": [
    "LA_result = pd.concat([test, new], axis=1, join='inner')"
   ]
  },
  {
   "cell_type": "code",
   "execution_count": 170,
   "id": "d6b73137-555b-46a2-abb5-bb71937df869",
   "metadata": {},
   "outputs": [],
   "source": [
    "LA_result['comp_score'] = LA_result['compound'].apply(lambda c: 'pos' if c >=0 else 'neg')"
   ]
  },
  {
   "cell_type": "code",
   "execution_count": 171,
   "id": "6473c699-c8e2-4e98-84fc-9aa5f5bb7e73",
   "metadata": {},
   "outputs": [
    {
     "data": {
      "text/plain": [
       "pos    0.84071\n",
       "neg    0.15929\n",
       "Name: comp_score, dtype: float64"
      ]
     },
     "execution_count": 171,
     "metadata": {},
     "output_type": "execute_result"
    }
   ],
   "source": [
    "LA_result['comp_score'].value_counts(normalize=True)"
   ]
  }
 ],
 "metadata": {
  "kernelspec": {
   "display_name": "Python 3",
   "language": "python",
   "name": "python3"
  },
  "language_info": {
   "codemirror_mode": {
    "name": "ipython",
    "version": 3
   },
   "file_extension": ".py",
   "mimetype": "text/x-python",
   "name": "python",
   "nbconvert_exporter": "python",
   "pygments_lexer": "ipython3",
   "version": "3.8.8"
  }
 },
 "nbformat": 4,
 "nbformat_minor": 5
}
