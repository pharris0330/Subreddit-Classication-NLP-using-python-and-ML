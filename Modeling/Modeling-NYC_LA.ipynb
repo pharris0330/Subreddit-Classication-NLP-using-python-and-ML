{
 "cells": [
  {
   "cell_type": "markdown",
   "id": "7a30c398-6420-4746-9c0c-713259d33cd3",
   "metadata": {},
   "source": [
    "# Scraping Reddit"
   ]
  },
  {
   "cell_type": "code",
   "execution_count": 9,
   "id": "045ea0c0-2a8e-4ed1-9a0c-488ff9b622f0",
   "metadata": {},
   "outputs": [],
   "source": [
    "import requests\n",
    "import time\n",
    "\n",
    "import pandas as pd\n",
    "\n",
    "import numpy as np\n",
    "import xgboost\n",
    "import matplotlib.pyplot as plt\n",
    "\n",
    "from sklearn.preprocessing import StandardScaler\n",
    "from sklearn.model_selection import GridSearchCV, train_test_split, cross_val_score\n",
    "from sklearn.svm import SVC\n",
    "from sklearn.ensemble import AdaBoostClassifier\n",
    "from xgboost import XGBClassifier\n",
    "from sklearn.svm import LinearSVC\n",
    "from sklearn.neighbors import KNeighborsClassifier\n",
    "from sklearn.feature_extraction.text import CountVectorizer, TfidfVectorizer\n",
    "from sklearn.linear_model import LogisticRegressionCV\n",
    "from sklearn.tree import export_text, DecisionTreeClassifier, plot_tree\n",
    "from sklearn.ensemble import RandomForestClassifier, ExtraTreesClassifier\n",
    "from sklearn.pipeline import Pipeline\n",
    "from sklearn.naive_bayes import MultinomialNB\n",
    "from sklearn.metrics import confusion_matrix, plot_confusion_matrix\n"
   ]
  },
  {
   "cell_type": "markdown",
   "id": "002ca64f-cca3-4d7d-b90f-50b503bd5a42",
   "metadata": {},
   "source": [
    "## API Calls"
   ]
  },
  {
   "cell_type": "code",
   "execution_count": 10,
   "id": "c3c7bb27-e292-4936-be18-677762e79a88",
   "metadata": {},
   "outputs": [],
   "source": [
    "url = 'https://api.pushshift.io/reddit/search/submission'\n",
    "\n",
    "params = {\n",
    "    'subreddit': 'AskNYC',\n",
    "    'size': 100,\n",
    "    'before': 1631370974\n",
    "}"
   ]
  },
  {
   "cell_type": "code",
   "execution_count": 11,
   "id": "6461619a-5f4c-4e1d-830d-31bef2a94fab",
   "metadata": {},
   "outputs": [],
   "source": [
    "res = requests.get(url, params=params)"
   ]
  },
  {
   "cell_type": "code",
   "execution_count": 12,
   "id": "5daab665-561c-40e0-b3c2-9f14c0aea168",
   "metadata": {},
   "outputs": [
    {
     "data": {
      "text/plain": [
       "dict"
      ]
     },
     "execution_count": 12,
     "metadata": {},
     "output_type": "execute_result"
    }
   ],
   "source": [
    "data = res.json()\n",
    "type(data)"
   ]
  },
  {
   "cell_type": "code",
   "execution_count": 13,
   "id": "7c3b4b59-171c-4821-81a2-7d948ea67746",
   "metadata": {},
   "outputs": [
    {
     "data": {
      "text/plain": [
       "1631280168"
      ]
     },
     "execution_count": 13,
     "metadata": {},
     "output_type": "execute_result"
    }
   ],
   "source": [
    "data['data'][-1]['created_utc']"
   ]
  },
  {
   "cell_type": "markdown",
   "id": "f7d56013-d121-45e0-81ac-7bd60bd82978",
   "metadata": {},
   "source": [
    "### Looping Ask NYC"
   ]
  },
  {
   "cell_type": "code",
   "execution_count": 14,
   "id": "0babde85-b718-4e1d-93eb-0084967c31ff",
   "metadata": {},
   "outputs": [
    {
     "name": "stdout",
     "output_type": "stream",
     "text": [
      "before updated to: 1632801035\n",
      "before updated to: 1632713881\n",
      "before updated to: 1632609492\n",
      "before updated to: 1632513165\n",
      "before updated to: 1632420108\n",
      "before updated to: 1632338554\n",
      "before updated to: 1632251959\n",
      "before updated to: 1632162799\n",
      "before updated to: 1632076839\n",
      "before updated to: 1631935994\n",
      "before updated to: 1631839850\n",
      "before updated to: 1631744646\n",
      "before updated to: 1631657563\n",
      "before updated to: 1631564141\n",
      "before updated to: 1631489423\n",
      "before updated to: 1631386597\n",
      "before updated to: 1631293600\n",
      "before updated to: 1631207760\n",
      "before updated to: 1631119654\n",
      "before updated to: 1631035738\n",
      "before updated to: 1630930246\n",
      "before updated to: 1630799564\n",
      "before updated to: 1630700273\n",
      "before updated to: 1630626198\n",
      "before updated to: 1630553525\n",
      "before updated to: 1630460117\n",
      "before updated to: 1630364458\n",
      "before updated to: 1630281936\n",
      "before updated to: 1630175896\n",
      "before updated to: 1630078174\n",
      "before updated to: 1629985328\n",
      "before updated to: 1629861660\n",
      "before updated to: 1629759255\n",
      "before updated to: 1629667478\n",
      "before updated to: 1629561064\n",
      "before updated to: 1629457436\n",
      "before updated to: 1629341635\n",
      "before updated to: 1629246707\n",
      "before updated to: 1629159799\n",
      "before updated to: 1629069137\n"
     ]
    }
   ],
   "source": [
    "url = 'https://api.pushshift.io/reddit/search/submission'\n",
    "subreddit = 'AskNYC'\n",
    "before = 1632922428\n",
    "\n",
    "df_list = []\n",
    "\n",
    "for _ in range(40):\n",
    "        \n",
    "    params = {\n",
    "        'subreddit': subreddit,\n",
    "        'size': 100,\n",
    "        'before': before\n",
    "    }\n",
    "\n",
    "    res = requests.get(url, params=params)\n",
    "    data = res.json()\n",
    "    \n",
    "    before = data['data'][-1]['created_utc']\n",
    "    print(f'before updated to: {before}')\n",
    "    \n",
    "    post_df = pd.DataFrame(data['data'])\n",
    "    df_list.append(post_df)\n",
    "    \n",
    "    time.sleep(3)"
   ]
  },
  {
   "cell_type": "code",
   "execution_count": 15,
   "id": "e475a05b-a8bc-4b93-a4b4-4065b2f2e117",
   "metadata": {},
   "outputs": [],
   "source": [
    "AskNYC_df = pd.concat(df_list)"
   ]
  },
  {
   "cell_type": "markdown",
   "id": "a74d85c8-bfec-4d3a-a90f-6942569d470e",
   "metadata": {},
   "source": [
    "### Looping Ask LA"
   ]
  },
  {
   "cell_type": "code",
   "execution_count": 16,
   "id": "3f727932-b870-4b2e-98a9-c346974bb153",
   "metadata": {},
   "outputs": [
    {
     "name": "stdout",
     "output_type": "stream",
     "text": [
      "before updated to: 1632602022\n",
      "before updated to: 1632328788\n",
      "before updated to: 1631960486\n",
      "before updated to: 1631652328\n",
      "before updated to: 1631331222\n",
      "before updated to: 1630983454\n",
      "before updated to: 1630596608\n",
      "before updated to: 1630307196\n",
      "before updated to: 1630015984\n",
      "before updated to: 1629743166\n",
      "before updated to: 1629417990\n",
      "before updated to: 1629005530\n",
      "before updated to: 1628708334\n",
      "before updated to: 1628450583\n",
      "before updated to: 1628106375\n",
      "before updated to: 1627769552\n",
      "before updated to: 1627439222\n",
      "before updated to: 1627100871\n",
      "before updated to: 1626799672\n",
      "before updated to: 1626458276\n",
      "before updated to: 1626153959\n",
      "before updated to: 1625867273\n",
      "before updated to: 1625550012\n",
      "before updated to: 1625261517\n",
      "before updated to: 1624993155\n",
      "before updated to: 1624593361\n",
      "before updated to: 1624335115\n",
      "before updated to: 1623990404\n",
      "before updated to: 1623704953\n",
      "before updated to: 1623379247\n",
      "before updated to: 1623098727\n",
      "before updated to: 1622726999\n",
      "before updated to: 1622424026\n",
      "before updated to: 1622128212\n",
      "before updated to: 1621871806\n",
      "before updated to: 1621549537\n",
      "before updated to: 1621286272\n",
      "before updated to: 1620945684\n",
      "before updated to: 1620544861\n",
      "before updated to: 1620238343\n"
     ]
    }
   ],
   "source": [
    "url = 'https://api.pushshift.io/reddit/search/submission'\n",
    "subreddit = 'AskLosAngeles'\n",
    "before = 1632922428\n",
    "\n",
    "df_list = []\n",
    "\n",
    "for _ in range(40):\n",
    "        \n",
    "    params = {\n",
    "        'subreddit': subreddit,\n",
    "        'size': 100,\n",
    "        'before': before\n",
    "    }\n",
    "\n",
    "    res = requests.get(url, params=params)\n",
    "    data = res.json()\n",
    "    \n",
    "    before = data['data'][-1]['created_utc']\n",
    "    print(f'before updated to: {before}')\n",
    "    \n",
    "    post_df = pd.DataFrame(data['data'])\n",
    "    df_list.append(post_df)\n",
    "    \n",
    "    time.sleep(3)\n",
    "    \n",
    "AskLosAngeles_df = pd.concat(df_list)"
   ]
  },
  {
   "cell_type": "code",
   "execution_count": 17,
   "id": "81e3767c-eea4-4b9a-a0cb-16006203aff4",
   "metadata": {},
   "outputs": [],
   "source": [
    "NYC_LA_df = pd.concat([AskNYC_df,AskLosAngeles_df])"
   ]
  },
  {
   "cell_type": "code",
   "execution_count": 18,
   "id": "888297fc-6a49-4cce-b465-80243702ae2c",
   "metadata": {},
   "outputs": [
    {
     "data": {
      "text/plain": [
       "Index(['all_awardings', 'allow_live_comments', 'author',\n",
       "       'author_flair_css_class', 'author_flair_richtext', 'author_flair_text',\n",
       "       'author_flair_type', 'author_fullname', 'author_is_blocked',\n",
       "       'author_patreon_flair', 'author_premium', 'awarders', 'can_mod_post',\n",
       "       'contest_mode', 'created_utc', 'domain', 'full_link', 'gildings', 'id',\n",
       "       'is_created_from_ads_ui', 'is_crosspostable', 'is_meta',\n",
       "       'is_original_content', 'is_reddit_media_domain', 'is_robot_indexable',\n",
       "       'is_self', 'is_video', 'link_flair_background_color',\n",
       "       'link_flair_richtext', 'link_flair_text_color', 'link_flair_type',\n",
       "       'locked', 'media_only', 'no_follow', 'num_comments', 'num_crossposts',\n",
       "       'over_18', 'parent_whitelist_status', 'permalink', 'pinned', 'pwls',\n",
       "       'retrieved_on', 'score', 'selftext', 'send_replies', 'spoiler',\n",
       "       'stickied', 'subreddit', 'subreddit_id', 'subreddit_subscribers',\n",
       "       'subreddit_type', 'thumbnail', 'title', 'total_awards_received',\n",
       "       'treatment_tags', 'upvote_ratio', 'url', 'whitelist_status', 'wls',\n",
       "       'removed_by_category', 'post_hint', 'preview',\n",
       "       'author_flair_background_color', 'author_flair_text_color', 'edited',\n",
       "       'banned_by', 'author_cakeday', 'link_flair_template_id',\n",
       "       'link_flair_text', 'author_flair_template_id'],\n",
       "      dtype='object')"
      ]
     },
     "execution_count": 18,
     "metadata": {},
     "output_type": "execute_result"
    }
   ],
   "source": [
    "NYC_LA_df.columns"
   ]
  },
  {
   "cell_type": "code",
   "execution_count": 19,
   "id": "70b3d206-8eb5-4ff6-9cf4-1ef5157be191",
   "metadata": {},
   "outputs": [
    {
     "data": {
      "text/plain": [
       "(7999, 70)"
      ]
     },
     "execution_count": 19,
     "metadata": {},
     "output_type": "execute_result"
    }
   ],
   "source": [
    "NYC_LA_df.shape"
   ]
  },
  {
   "cell_type": "code",
   "execution_count": 20,
   "id": "bfb71f1d-294a-4394-8897-d1be4dbc4937",
   "metadata": {},
   "outputs": [
    {
     "data": {
      "text/plain": [
       "(7999, 70)"
      ]
     },
     "execution_count": 20,
     "metadata": {},
     "output_type": "execute_result"
    }
   ],
   "source": [
    "NYC_LA_df.shape"
   ]
  },
  {
   "cell_type": "markdown",
   "id": "55511c62-9f0f-4925-9f51-12eb68621911",
   "metadata": {},
   "source": [
    "### Baseline accuracy"
   ]
  },
  {
   "cell_type": "code",
   "execution_count": 21,
   "id": "1148a664-8741-4ff7-a40c-a2fef6626e51",
   "metadata": {},
   "outputs": [
    {
     "data": {
      "text/plain": [
       "AskNYC           0.500063\n",
       "AskLosAngeles    0.499937\n",
       "Name: subreddit, dtype: float64"
      ]
     },
     "execution_count": 21,
     "metadata": {},
     "output_type": "execute_result"
    }
   ],
   "source": [
    "NYC_LA_df['subreddit'].value_counts(normalize=True)"
   ]
  },
  {
   "cell_type": "markdown",
   "id": "a817cc9d-e40f-4ee0-af60-6e9f58b95429",
   "metadata": {},
   "source": [
    "### Dropna"
   ]
  },
  {
   "cell_type": "code",
   "execution_count": 27,
   "id": "71ec47a0-9264-4782-9c90-e5bc47e3b78f",
   "metadata": {},
   "outputs": [],
   "source": [
    "NYC_LA_df_dropna = NYC_LA_df.dropna()"
   ]
  },
  {
   "cell_type": "code",
   "execution_count": 30,
   "id": "7eb7e6ca-6206-4a1f-8ed9-30fedc1aa4a6",
   "metadata": {},
   "outputs": [
    {
     "data": {
      "text/html": [
       "<div>\n",
       "<style scoped>\n",
       "    .dataframe tbody tr th:only-of-type {\n",
       "        vertical-align: middle;\n",
       "    }\n",
       "\n",
       "    .dataframe tbody tr th {\n",
       "        vertical-align: top;\n",
       "    }\n",
       "\n",
       "    .dataframe thead th {\n",
       "        text-align: right;\n",
       "    }\n",
       "</style>\n",
       "<table border=\"1\" class=\"dataframe\">\n",
       "  <thead>\n",
       "    <tr style=\"text-align: right;\">\n",
       "      <th></th>\n",
       "      <th>all_awardings</th>\n",
       "      <th>allow_live_comments</th>\n",
       "      <th>author</th>\n",
       "      <th>author_flair_css_class</th>\n",
       "      <th>author_flair_richtext</th>\n",
       "      <th>author_flair_text</th>\n",
       "      <th>author_flair_type</th>\n",
       "      <th>author_fullname</th>\n",
       "      <th>author_is_blocked</th>\n",
       "      <th>author_patreon_flair</th>\n",
       "      <th>...</th>\n",
       "      <th>post_hint</th>\n",
       "      <th>preview</th>\n",
       "      <th>author_flair_background_color</th>\n",
       "      <th>author_flair_text_color</th>\n",
       "      <th>edited</th>\n",
       "      <th>banned_by</th>\n",
       "      <th>author_cakeday</th>\n",
       "      <th>link_flair_template_id</th>\n",
       "      <th>link_flair_text</th>\n",
       "      <th>author_flair_template_id</th>\n",
       "    </tr>\n",
       "  </thead>\n",
       "  <tbody>\n",
       "    <tr>\n",
       "      <th>0</th>\n",
       "      <td>[]</td>\n",
       "      <td>False</td>\n",
       "      <td>ApartmentQuestion5</td>\n",
       "      <td>None</td>\n",
       "      <td>[]</td>\n",
       "      <td>None</td>\n",
       "      <td>text</td>\n",
       "      <td>t2_8q93ft6k</td>\n",
       "      <td>False</td>\n",
       "      <td>False</td>\n",
       "      <td>...</td>\n",
       "      <td>NaN</td>\n",
       "      <td>NaN</td>\n",
       "      <td>NaN</td>\n",
       "      <td>NaN</td>\n",
       "      <td>NaN</td>\n",
       "      <td>NaN</td>\n",
       "      <td>NaN</td>\n",
       "      <td>NaN</td>\n",
       "      <td>NaN</td>\n",
       "      <td>NaN</td>\n",
       "    </tr>\n",
       "    <tr>\n",
       "      <th>1</th>\n",
       "      <td>[]</td>\n",
       "      <td>False</td>\n",
       "      <td>dammets</td>\n",
       "      <td>None</td>\n",
       "      <td>[]</td>\n",
       "      <td>None</td>\n",
       "      <td>text</td>\n",
       "      <td>t2_p3iwm</td>\n",
       "      <td>False</td>\n",
       "      <td>False</td>\n",
       "      <td>...</td>\n",
       "      <td>NaN</td>\n",
       "      <td>NaN</td>\n",
       "      <td>NaN</td>\n",
       "      <td>NaN</td>\n",
       "      <td>NaN</td>\n",
       "      <td>NaN</td>\n",
       "      <td>NaN</td>\n",
       "      <td>NaN</td>\n",
       "      <td>NaN</td>\n",
       "      <td>NaN</td>\n",
       "    </tr>\n",
       "    <tr>\n",
       "      <th>2</th>\n",
       "      <td>[]</td>\n",
       "      <td>False</td>\n",
       "      <td>uncertainness</td>\n",
       "      <td>None</td>\n",
       "      <td>[]</td>\n",
       "      <td>None</td>\n",
       "      <td>text</td>\n",
       "      <td>t2_3tlw4</td>\n",
       "      <td>False</td>\n",
       "      <td>False</td>\n",
       "      <td>...</td>\n",
       "      <td>NaN</td>\n",
       "      <td>NaN</td>\n",
       "      <td>NaN</td>\n",
       "      <td>NaN</td>\n",
       "      <td>NaN</td>\n",
       "      <td>NaN</td>\n",
       "      <td>NaN</td>\n",
       "      <td>NaN</td>\n",
       "      <td>NaN</td>\n",
       "      <td>NaN</td>\n",
       "    </tr>\n",
       "    <tr>\n",
       "      <th>3</th>\n",
       "      <td>[]</td>\n",
       "      <td>False</td>\n",
       "      <td>lentil5oup</td>\n",
       "      <td>None</td>\n",
       "      <td>[]</td>\n",
       "      <td>None</td>\n",
       "      <td>text</td>\n",
       "      <td>t2_fig5g</td>\n",
       "      <td>False</td>\n",
       "      <td>False</td>\n",
       "      <td>...</td>\n",
       "      <td>NaN</td>\n",
       "      <td>NaN</td>\n",
       "      <td>NaN</td>\n",
       "      <td>NaN</td>\n",
       "      <td>NaN</td>\n",
       "      <td>NaN</td>\n",
       "      <td>NaN</td>\n",
       "      <td>NaN</td>\n",
       "      <td>NaN</td>\n",
       "      <td>NaN</td>\n",
       "    </tr>\n",
       "    <tr>\n",
       "      <th>4</th>\n",
       "      <td>[]</td>\n",
       "      <td>False</td>\n",
       "      <td>discondat</td>\n",
       "      <td>None</td>\n",
       "      <td>[]</td>\n",
       "      <td>None</td>\n",
       "      <td>text</td>\n",
       "      <td>t2_5n02e37h</td>\n",
       "      <td>False</td>\n",
       "      <td>False</td>\n",
       "      <td>...</td>\n",
       "      <td>NaN</td>\n",
       "      <td>NaN</td>\n",
       "      <td>NaN</td>\n",
       "      <td>NaN</td>\n",
       "      <td>NaN</td>\n",
       "      <td>NaN</td>\n",
       "      <td>NaN</td>\n",
       "      <td>NaN</td>\n",
       "      <td>NaN</td>\n",
       "      <td>NaN</td>\n",
       "    </tr>\n",
       "    <tr>\n",
       "      <th>...</th>\n",
       "      <td>...</td>\n",
       "      <td>...</td>\n",
       "      <td>...</td>\n",
       "      <td>...</td>\n",
       "      <td>...</td>\n",
       "      <td>...</td>\n",
       "      <td>...</td>\n",
       "      <td>...</td>\n",
       "      <td>...</td>\n",
       "      <td>...</td>\n",
       "      <td>...</td>\n",
       "      <td>...</td>\n",
       "      <td>...</td>\n",
       "      <td>...</td>\n",
       "      <td>...</td>\n",
       "      <td>...</td>\n",
       "      <td>...</td>\n",
       "      <td>...</td>\n",
       "      <td>...</td>\n",
       "      <td>...</td>\n",
       "      <td>...</td>\n",
       "    </tr>\n",
       "    <tr>\n",
       "      <th>95</th>\n",
       "      <td>[]</td>\n",
       "      <td>False</td>\n",
       "      <td>poli8999</td>\n",
       "      <td>None</td>\n",
       "      <td>[]</td>\n",
       "      <td>None</td>\n",
       "      <td>text</td>\n",
       "      <td>t2_13lxbx</td>\n",
       "      <td>NaN</td>\n",
       "      <td>False</td>\n",
       "      <td>...</td>\n",
       "      <td>NaN</td>\n",
       "      <td>NaN</td>\n",
       "      <td>NaN</td>\n",
       "      <td>NaN</td>\n",
       "      <td>NaN</td>\n",
       "      <td>NaN</td>\n",
       "      <td>NaN</td>\n",
       "      <td>e19a32b0-f84e-11e9-ad04-0e323326f190</td>\n",
       "      <td>Transportation</td>\n",
       "      <td>NaN</td>\n",
       "    </tr>\n",
       "    <tr>\n",
       "      <th>96</th>\n",
       "      <td>[]</td>\n",
       "      <td>False</td>\n",
       "      <td>Very_Smart_Guy</td>\n",
       "      <td>None</td>\n",
       "      <td>[]</td>\n",
       "      <td>None</td>\n",
       "      <td>text</td>\n",
       "      <td>t2_cze9289</td>\n",
       "      <td>NaN</td>\n",
       "      <td>False</td>\n",
       "      <td>...</td>\n",
       "      <td>NaN</td>\n",
       "      <td>NaN</td>\n",
       "      <td>NaN</td>\n",
       "      <td>NaN</td>\n",
       "      <td>NaN</td>\n",
       "      <td>NaN</td>\n",
       "      <td>NaN</td>\n",
       "      <td>5bd14530-a9ee-11eb-9c2c-0ec8f61982b3</td>\n",
       "      <td>Living</td>\n",
       "      <td>NaN</td>\n",
       "    </tr>\n",
       "    <tr>\n",
       "      <th>97</th>\n",
       "      <td>[]</td>\n",
       "      <td>False</td>\n",
       "      <td>livedinfrance</td>\n",
       "      <td>None</td>\n",
       "      <td>[]</td>\n",
       "      <td>None</td>\n",
       "      <td>text</td>\n",
       "      <td>t2_a28w0ffu</td>\n",
       "      <td>NaN</td>\n",
       "      <td>False</td>\n",
       "      <td>...</td>\n",
       "      <td>NaN</td>\n",
       "      <td>NaN</td>\n",
       "      <td>NaN</td>\n",
       "      <td>NaN</td>\n",
       "      <td>NaN</td>\n",
       "      <td>NaN</td>\n",
       "      <td>NaN</td>\n",
       "      <td>f3f22b4a-a9ee-11eb-a2f5-0eb999ecf731</td>\n",
       "      <td>Things to do</td>\n",
       "      <td>NaN</td>\n",
       "    </tr>\n",
       "    <tr>\n",
       "      <th>98</th>\n",
       "      <td>[]</td>\n",
       "      <td>False</td>\n",
       "      <td>dolphinballoon</td>\n",
       "      <td>None</td>\n",
       "      <td>[]</td>\n",
       "      <td>None</td>\n",
       "      <td>text</td>\n",
       "      <td>t2_5eq9qgdq</td>\n",
       "      <td>NaN</td>\n",
       "      <td>False</td>\n",
       "      <td>...</td>\n",
       "      <td>NaN</td>\n",
       "      <td>NaN</td>\n",
       "      <td>NaN</td>\n",
       "      <td>NaN</td>\n",
       "      <td>NaN</td>\n",
       "      <td>NaN</td>\n",
       "      <td>NaN</td>\n",
       "      <td>2a731092-a9f1-11eb-826d-0e22ed5e97f5</td>\n",
       "      <td>COVID-19</td>\n",
       "      <td>NaN</td>\n",
       "    </tr>\n",
       "    <tr>\n",
       "      <th>99</th>\n",
       "      <td>[]</td>\n",
       "      <td>False</td>\n",
       "      <td>the_night_question</td>\n",
       "      <td>None</td>\n",
       "      <td>[]</td>\n",
       "      <td>None</td>\n",
       "      <td>text</td>\n",
       "      <td>t2_4lqrfgu8</td>\n",
       "      <td>NaN</td>\n",
       "      <td>False</td>\n",
       "      <td>...</td>\n",
       "      <td>NaN</td>\n",
       "      <td>NaN</td>\n",
       "      <td>NaN</td>\n",
       "      <td>NaN</td>\n",
       "      <td>NaN</td>\n",
       "      <td>NaN</td>\n",
       "      <td>NaN</td>\n",
       "      <td>42fc88fc-a9ef-11eb-aea9-0e1136bd77bd</td>\n",
       "      <td>About L.A.</td>\n",
       "      <td>NaN</td>\n",
       "    </tr>\n",
       "  </tbody>\n",
       "</table>\n",
       "<p>7999 rows × 70 columns</p>\n",
       "</div>"
      ],
      "text/plain": [
       "   all_awardings  allow_live_comments              author  \\\n",
       "0             []                False  ApartmentQuestion5   \n",
       "1             []                False             dammets   \n",
       "2             []                False       uncertainness   \n",
       "3             []                False          lentil5oup   \n",
       "4             []                False           discondat   \n",
       "..           ...                  ...                 ...   \n",
       "95            []                False            poli8999   \n",
       "96            []                False      Very_Smart_Guy   \n",
       "97            []                False       livedinfrance   \n",
       "98            []                False      dolphinballoon   \n",
       "99            []                False  the_night_question   \n",
       "\n",
       "   author_flair_css_class author_flair_richtext author_flair_text  \\\n",
       "0                    None                    []              None   \n",
       "1                    None                    []              None   \n",
       "2                    None                    []              None   \n",
       "3                    None                    []              None   \n",
       "4                    None                    []              None   \n",
       "..                    ...                   ...               ...   \n",
       "95                   None                    []              None   \n",
       "96                   None                    []              None   \n",
       "97                   None                    []              None   \n",
       "98                   None                    []              None   \n",
       "99                   None                    []              None   \n",
       "\n",
       "   author_flair_type author_fullname author_is_blocked author_patreon_flair  \\\n",
       "0               text     t2_8q93ft6k             False                False   \n",
       "1               text        t2_p3iwm             False                False   \n",
       "2               text        t2_3tlw4             False                False   \n",
       "3               text        t2_fig5g             False                False   \n",
       "4               text     t2_5n02e37h             False                False   \n",
       "..               ...             ...               ...                  ...   \n",
       "95              text       t2_13lxbx               NaN                False   \n",
       "96              text      t2_cze9289               NaN                False   \n",
       "97              text     t2_a28w0ffu               NaN                False   \n",
       "98              text     t2_5eq9qgdq               NaN                False   \n",
       "99              text     t2_4lqrfgu8               NaN                False   \n",
       "\n",
       "    ... post_hint preview  author_flair_background_color  \\\n",
       "0   ...       NaN     NaN                            NaN   \n",
       "1   ...       NaN     NaN                            NaN   \n",
       "2   ...       NaN     NaN                            NaN   \n",
       "3   ...       NaN     NaN                            NaN   \n",
       "4   ...       NaN     NaN                            NaN   \n",
       "..  ...       ...     ...                            ...   \n",
       "95  ...       NaN     NaN                            NaN   \n",
       "96  ...       NaN     NaN                            NaN   \n",
       "97  ...       NaN     NaN                            NaN   \n",
       "98  ...       NaN     NaN                            NaN   \n",
       "99  ...       NaN     NaN                            NaN   \n",
       "\n",
       "    author_flair_text_color  edited banned_by author_cakeday  \\\n",
       "0                       NaN     NaN       NaN            NaN   \n",
       "1                       NaN     NaN       NaN            NaN   \n",
       "2                       NaN     NaN       NaN            NaN   \n",
       "3                       NaN     NaN       NaN            NaN   \n",
       "4                       NaN     NaN       NaN            NaN   \n",
       "..                      ...     ...       ...            ...   \n",
       "95                      NaN     NaN       NaN            NaN   \n",
       "96                      NaN     NaN       NaN            NaN   \n",
       "97                      NaN     NaN       NaN            NaN   \n",
       "98                      NaN     NaN       NaN            NaN   \n",
       "99                      NaN     NaN       NaN            NaN   \n",
       "\n",
       "                  link_flair_template_id link_flair_text  \\\n",
       "0                                    NaN             NaN   \n",
       "1                                    NaN             NaN   \n",
       "2                                    NaN             NaN   \n",
       "3                                    NaN             NaN   \n",
       "4                                    NaN             NaN   \n",
       "..                                   ...             ...   \n",
       "95  e19a32b0-f84e-11e9-ad04-0e323326f190  Transportation   \n",
       "96  5bd14530-a9ee-11eb-9c2c-0ec8f61982b3          Living   \n",
       "97  f3f22b4a-a9ee-11eb-a2f5-0eb999ecf731    Things to do   \n",
       "98  2a731092-a9f1-11eb-826d-0e22ed5e97f5        COVID-19   \n",
       "99  42fc88fc-a9ef-11eb-aea9-0e1136bd77bd      About L.A.   \n",
       "\n",
       "   author_flair_template_id  \n",
       "0                       NaN  \n",
       "1                       NaN  \n",
       "2                       NaN  \n",
       "3                       NaN  \n",
       "4                       NaN  \n",
       "..                      ...  \n",
       "95                      NaN  \n",
       "96                      NaN  \n",
       "97                      NaN  \n",
       "98                      NaN  \n",
       "99                      NaN  \n",
       "\n",
       "[7999 rows x 70 columns]"
      ]
     },
     "execution_count": 30,
     "metadata": {},
     "output_type": "execute_result"
    }
   ],
   "source": [
    "NYC_LA_df"
   ]
  },
  {
   "cell_type": "markdown",
   "id": "2718f7ef-1fc3-436f-8083-c6b03921bc5b",
   "metadata": {},
   "source": [
    "## Count vectorize and train-test split"
   ]
  },
  {
   "cell_type": "code",
   "execution_count": 35,
   "id": "d707b3cc-243b-4de5-9c1c-a52b377c8717",
   "metadata": {},
   "outputs": [],
   "source": [
    "NYC_LA_df_copy = NYC_LA_df"
   ]
  },
  {
   "cell_type": "code",
   "execution_count": 42,
   "id": "7c13789b-6bfc-4942-968b-1905b874c96b",
   "metadata": {},
   "outputs": [],
   "source": [
    "test = NYC_LA_df[['selftext','subreddit']].dropna()"
   ]
  },
  {
   "cell_type": "code",
   "execution_count": 43,
   "id": "8746d5e4-d135-4662-b788-551b6c2debba",
   "metadata": {},
   "outputs": [],
   "source": [
    "X = test['selftext']\n",
    "y = test['subreddit']\n",
    "\n",
    "X_train, X_test, y_train, y_test = train_test_split(X, y, stratify=y, random_state=42)"
   ]
  },
  {
   "cell_type": "markdown",
   "id": "3cfa86a1-7372-4758-9d3e-bc9877258abd",
   "metadata": {},
   "source": [
    "### Logistic Regression (tfid)"
   ]
  },
  {
   "cell_type": "code",
   "execution_count": 44,
   "id": "70a66ae1-29d6-465f-a276-f37dd810c2bd",
   "metadata": {},
   "outputs": [
    {
     "data": {
      "text/plain": [
       "(0.9368948247078465, 0.8202303455182774)"
      ]
     },
     "execution_count": 44,
     "metadata": {},
     "output_type": "execute_result"
    }
   ],
   "source": [
    "pipe = Pipeline([\n",
    "    ('tf', TfidfVectorizer(min_df=2)),\n",
    "    ('lr', LogisticRegressionCV(solver='liblinear'))\n",
    "])\n",
    "\n",
    "pipe.fit(X_train, y_train)\n",
    "pipe.score(X_train, y_train), pipe.score(X_test, y_test)"
   ]
  },
  {
   "cell_type": "code",
   "execution_count": 46,
   "id": "521b7e2e-75d3-4b77-aca2-73ac1bfaab58",
   "metadata": {},
   "outputs": [],
   "source": [
    "pred = pipe.predict(X_test)"
   ]
  },
  {
   "cell_type": "code",
   "execution_count": 47,
   "id": "30a499d2-9cae-4663-b265-e7ce89632ed1",
   "metadata": {},
   "outputs": [],
   "source": [
    "test = pd.DataFrame(pred)"
   ]
  },
  {
   "cell_type": "code",
   "execution_count": 48,
   "id": "577d1195-153d-49fe-a8a9-8aa8f1da41f1",
   "metadata": {},
   "outputs": [
    {
     "data": {
      "text/plain": [
       "AskNYC           0.529294\n",
       "AskLosAngeles    0.470706\n",
       "Name: 0, dtype: float64"
      ]
     },
     "execution_count": 48,
     "metadata": {},
     "output_type": "execute_result"
    }
   ],
   "source": [
    "test[0].value_counts(normalize=True)"
   ]
  },
  {
   "cell_type": "markdown",
   "id": "519de19e-00b1-4872-af9d-ac8861feb1dc",
   "metadata": {},
   "source": [
    "### Logistic Regression (Count Vectorize)"
   ]
  },
  {
   "cell_type": "code",
   "execution_count": 49,
   "id": "07337044-628b-4c0a-b9b8-f8a1999fda89",
   "metadata": {},
   "outputs": [
    {
     "data": {
      "text/plain": [
       "(0.9480801335559266, 0.8157235853780671)"
      ]
     },
     "execution_count": 49,
     "metadata": {},
     "output_type": "execute_result"
    }
   ],
   "source": [
    "pipe = Pipeline([\n",
    "    ('cv', CountVectorizer(min_df=2)),\n",
    "    ('lr', LogisticRegressionCV(solver='liblinear'))\n",
    "])\n",
    "\n",
    "pipe.fit(X_train, y_train)\n",
    "pipe.score(X_train, y_train), pipe.score(X_test, y_test)"
   ]
  },
  {
   "cell_type": "code",
   "execution_count": 50,
   "id": "50c37b10-e4df-45e3-b89e-965db3681e3a",
   "metadata": {},
   "outputs": [],
   "source": [
    "pred = pipe.predict(X_test)"
   ]
  },
  {
   "cell_type": "code",
   "execution_count": 51,
   "id": "c0be8018-13c3-4a72-af13-159a743ca441",
   "metadata": {},
   "outputs": [],
   "source": [
    "test = pd.DataFrame(pred)"
   ]
  },
  {
   "cell_type": "code",
   "execution_count": 52,
   "id": "6793352f-00c6-49b1-9181-f512bfb8eec9",
   "metadata": {},
   "outputs": [
    {
     "data": {
      "text/plain": [
       "AskNYC           0.541813\n",
       "AskLosAngeles    0.458187\n",
       "Name: 0, dtype: float64"
      ]
     },
     "execution_count": 52,
     "metadata": {},
     "output_type": "execute_result"
    }
   ],
   "source": [
    "test[0].value_counts(normalize=True)"
   ]
  },
  {
   "cell_type": "markdown",
   "id": "80d2b146-dcdf-4863-a6a2-5c7be32039b4",
   "metadata": {},
   "source": [
    "### Test phrases - LogReg"
   ]
  },
  {
   "cell_type": "code",
   "execution_count": 53,
   "id": "ab647c58-f874-47cd-b9f1-324f0f4d8359",
   "metadata": {},
   "outputs": [],
   "source": [
    "test = ['Happy', 'Nice','Smile','Fun']"
   ]
  },
  {
   "cell_type": "code",
   "execution_count": 54,
   "id": "ac122c65-8e60-4792-8f9d-3c72397da6b3",
   "metadata": {},
   "outputs": [
    {
     "data": {
      "text/plain": [
       "array(['AskNYC', 'AskNYC', 'AskNYC', 'AskNYC'], dtype=object)"
      ]
     },
     "execution_count": 54,
     "metadata": {},
     "output_type": "execute_result"
    }
   ],
   "source": [
    "test = pd.DataFrame(test)\n",
    "new_pred =pipe.predict(test[0])\n",
    "new_pred"
   ]
  },
  {
   "cell_type": "code",
   "execution_count": null,
   "id": "3410a2f5-4e0d-4b90-be21-09ce95321248",
   "metadata": {},
   "outputs": [],
   "source": [
    "test = ['I am sad.','Sad','I am unhappy', 'Unhappy','Mad','Angry']\n",
    "test = pd.DataFrame(test)\n",
    "new_pred =pipe.predict(test[0])\n",
    "new_pred"
   ]
  },
  {
   "cell_type": "code",
   "execution_count": null,
   "id": "44c4a39c-d3e8-44b5-999b-0ef439940289",
   "metadata": {},
   "outputs": [],
   "source": [
    "test = ['Get away from me.', 'Your fired','Get out of my way.','You suck']\n",
    "test = pd.DataFrame(test)\n",
    "new_pred =pipe.predict(test[0])\n",
    "new_pred"
   ]
  },
  {
   "cell_type": "code",
   "execution_count": null,
   "id": "5be75330-e081-4932-ba06-b95f0f5b72d3",
   "metadata": {},
   "outputs": [],
   "source": [
    "test = ['Beach.', 'Sunny.','Lakers.','Dodgers.']\n",
    "test = pd.DataFrame(test)\n",
    "new_pred =pipe.predict(test[0])\n",
    "new_pred"
   ]
  },
  {
   "cell_type": "code",
   "execution_count": null,
   "id": "e7c43c21-4039-490e-85b1-8314861287e9",
   "metadata": {},
   "outputs": [],
   "source": [
    "test = ['How are you.', 'Great job.','I love you.','I hate you.']\n",
    "test = pd.DataFrame(test)\n",
    "new_pred =pipe.predict(test[0])\n",
    "new_pred"
   ]
  },
  {
   "cell_type": "code",
   "execution_count": null,
   "id": "33c5fdaf-341b-4ff8-95a9-7a0e6a3f87b4",
   "metadata": {},
   "outputs": [],
   "source": []
  },
  {
   "cell_type": "markdown",
   "id": "729c96da-161d-4121-bb55-e3b802aedffb",
   "metadata": {},
   "source": [
    "## How well does a decision tree perform?"
   ]
  },
  {
   "cell_type": "code",
   "execution_count": 34,
   "id": "d790695e-251d-43a7-b7ef-df37efa56c14",
   "metadata": {},
   "outputs": [
    {
     "ename": "ValueError",
     "evalue": "np.nan is an invalid document, expected byte or unicode string.",
     "output_type": "error",
     "traceback": [
      "\u001b[1;31m---------------------------------------------------------------------------\u001b[0m",
      "\u001b[1;31mValueError\u001b[0m                                Traceback (most recent call last)",
      "\u001b[1;32m<ipython-input-34-5970dae750fa>\u001b[0m in \u001b[0;36m<module>\u001b[1;34m\u001b[0m\n\u001b[0;32m      5\u001b[0m ])\n\u001b[0;32m      6\u001b[0m \u001b[1;33m\u001b[0m\u001b[0m\n\u001b[1;32m----> 7\u001b[1;33m \u001b[0mpipe\u001b[0m\u001b[1;33m.\u001b[0m\u001b[0mfit\u001b[0m\u001b[1;33m(\u001b[0m\u001b[0mX_train\u001b[0m\u001b[1;33m,\u001b[0m \u001b[0my_train\u001b[0m\u001b[1;33m)\u001b[0m\u001b[1;33m\u001b[0m\u001b[1;33m\u001b[0m\u001b[0m\n\u001b[0m\u001b[0;32m      8\u001b[0m \u001b[0mpipe\u001b[0m\u001b[1;33m.\u001b[0m\u001b[0mscore\u001b[0m\u001b[1;33m(\u001b[0m\u001b[0mX_train\u001b[0m\u001b[1;33m,\u001b[0m \u001b[0my_train\u001b[0m\u001b[1;33m)\u001b[0m\u001b[1;33m,\u001b[0m \u001b[0mpipe\u001b[0m\u001b[1;33m.\u001b[0m\u001b[0mscore\u001b[0m\u001b[1;33m(\u001b[0m\u001b[0mX_test\u001b[0m\u001b[1;33m,\u001b[0m \u001b[0my_test\u001b[0m\u001b[1;33m)\u001b[0m\u001b[1;33m\u001b[0m\u001b[1;33m\u001b[0m\u001b[0m\n",
      "\u001b[1;32m~\\Anaconda\\lib\\site-packages\\sklearn\\pipeline.py\u001b[0m in \u001b[0;36mfit\u001b[1;34m(self, X, y, **fit_params)\u001b[0m\n\u001b[0;32m    339\u001b[0m         \"\"\"\n\u001b[0;32m    340\u001b[0m         \u001b[0mfit_params_steps\u001b[0m \u001b[1;33m=\u001b[0m \u001b[0mself\u001b[0m\u001b[1;33m.\u001b[0m\u001b[0m_check_fit_params\u001b[0m\u001b[1;33m(\u001b[0m\u001b[1;33m**\u001b[0m\u001b[0mfit_params\u001b[0m\u001b[1;33m)\u001b[0m\u001b[1;33m\u001b[0m\u001b[1;33m\u001b[0m\u001b[0m\n\u001b[1;32m--> 341\u001b[1;33m         \u001b[0mXt\u001b[0m \u001b[1;33m=\u001b[0m \u001b[0mself\u001b[0m\u001b[1;33m.\u001b[0m\u001b[0m_fit\u001b[0m\u001b[1;33m(\u001b[0m\u001b[0mX\u001b[0m\u001b[1;33m,\u001b[0m \u001b[0my\u001b[0m\u001b[1;33m,\u001b[0m \u001b[1;33m**\u001b[0m\u001b[0mfit_params_steps\u001b[0m\u001b[1;33m)\u001b[0m\u001b[1;33m\u001b[0m\u001b[1;33m\u001b[0m\u001b[0m\n\u001b[0m\u001b[0;32m    342\u001b[0m         with _print_elapsed_time('Pipeline',\n\u001b[0;32m    343\u001b[0m                                  self._log_message(len(self.steps) - 1)):\n",
      "\u001b[1;32m~\\Anaconda\\lib\\site-packages\\sklearn\\pipeline.py\u001b[0m in \u001b[0;36m_fit\u001b[1;34m(self, X, y, **fit_params_steps)\u001b[0m\n\u001b[0;32m    301\u001b[0m                 \u001b[0mcloned_transformer\u001b[0m \u001b[1;33m=\u001b[0m \u001b[0mclone\u001b[0m\u001b[1;33m(\u001b[0m\u001b[0mtransformer\u001b[0m\u001b[1;33m)\u001b[0m\u001b[1;33m\u001b[0m\u001b[1;33m\u001b[0m\u001b[0m\n\u001b[0;32m    302\u001b[0m             \u001b[1;31m# Fit or load from cache the current transformer\u001b[0m\u001b[1;33m\u001b[0m\u001b[1;33m\u001b[0m\u001b[1;33m\u001b[0m\u001b[0m\n\u001b[1;32m--> 303\u001b[1;33m             X, fitted_transformer = fit_transform_one_cached(\n\u001b[0m\u001b[0;32m    304\u001b[0m                 \u001b[0mcloned_transformer\u001b[0m\u001b[1;33m,\u001b[0m \u001b[0mX\u001b[0m\u001b[1;33m,\u001b[0m \u001b[0my\u001b[0m\u001b[1;33m,\u001b[0m \u001b[1;32mNone\u001b[0m\u001b[1;33m,\u001b[0m\u001b[1;33m\u001b[0m\u001b[1;33m\u001b[0m\u001b[0m\n\u001b[0;32m    305\u001b[0m                 \u001b[0mmessage_clsname\u001b[0m\u001b[1;33m=\u001b[0m\u001b[1;34m'Pipeline'\u001b[0m\u001b[1;33m,\u001b[0m\u001b[1;33m\u001b[0m\u001b[1;33m\u001b[0m\u001b[0m\n",
      "\u001b[1;32m~\\Anaconda\\lib\\site-packages\\joblib\\memory.py\u001b[0m in \u001b[0;36m__call__\u001b[1;34m(self, *args, **kwargs)\u001b[0m\n\u001b[0;32m    350\u001b[0m \u001b[1;33m\u001b[0m\u001b[0m\n\u001b[0;32m    351\u001b[0m     \u001b[1;32mdef\u001b[0m \u001b[0m__call__\u001b[0m\u001b[1;33m(\u001b[0m\u001b[0mself\u001b[0m\u001b[1;33m,\u001b[0m \u001b[1;33m*\u001b[0m\u001b[0margs\u001b[0m\u001b[1;33m,\u001b[0m \u001b[1;33m**\u001b[0m\u001b[0mkwargs\u001b[0m\u001b[1;33m)\u001b[0m\u001b[1;33m:\u001b[0m\u001b[1;33m\u001b[0m\u001b[1;33m\u001b[0m\u001b[0m\n\u001b[1;32m--> 352\u001b[1;33m         \u001b[1;32mreturn\u001b[0m \u001b[0mself\u001b[0m\u001b[1;33m.\u001b[0m\u001b[0mfunc\u001b[0m\u001b[1;33m(\u001b[0m\u001b[1;33m*\u001b[0m\u001b[0margs\u001b[0m\u001b[1;33m,\u001b[0m \u001b[1;33m**\u001b[0m\u001b[0mkwargs\u001b[0m\u001b[1;33m)\u001b[0m\u001b[1;33m\u001b[0m\u001b[1;33m\u001b[0m\u001b[0m\n\u001b[0m\u001b[0;32m    353\u001b[0m \u001b[1;33m\u001b[0m\u001b[0m\n\u001b[0;32m    354\u001b[0m     \u001b[1;32mdef\u001b[0m \u001b[0mcall_and_shelve\u001b[0m\u001b[1;33m(\u001b[0m\u001b[0mself\u001b[0m\u001b[1;33m,\u001b[0m \u001b[1;33m*\u001b[0m\u001b[0margs\u001b[0m\u001b[1;33m,\u001b[0m \u001b[1;33m**\u001b[0m\u001b[0mkwargs\u001b[0m\u001b[1;33m)\u001b[0m\u001b[1;33m:\u001b[0m\u001b[1;33m\u001b[0m\u001b[1;33m\u001b[0m\u001b[0m\n",
      "\u001b[1;32m~\\Anaconda\\lib\\site-packages\\sklearn\\pipeline.py\u001b[0m in \u001b[0;36m_fit_transform_one\u001b[1;34m(transformer, X, y, weight, message_clsname, message, **fit_params)\u001b[0m\n\u001b[0;32m    752\u001b[0m     \u001b[1;32mwith\u001b[0m \u001b[0m_print_elapsed_time\u001b[0m\u001b[1;33m(\u001b[0m\u001b[0mmessage_clsname\u001b[0m\u001b[1;33m,\u001b[0m \u001b[0mmessage\u001b[0m\u001b[1;33m)\u001b[0m\u001b[1;33m:\u001b[0m\u001b[1;33m\u001b[0m\u001b[1;33m\u001b[0m\u001b[0m\n\u001b[0;32m    753\u001b[0m         \u001b[1;32mif\u001b[0m \u001b[0mhasattr\u001b[0m\u001b[1;33m(\u001b[0m\u001b[0mtransformer\u001b[0m\u001b[1;33m,\u001b[0m \u001b[1;34m'fit_transform'\u001b[0m\u001b[1;33m)\u001b[0m\u001b[1;33m:\u001b[0m\u001b[1;33m\u001b[0m\u001b[1;33m\u001b[0m\u001b[0m\n\u001b[1;32m--> 754\u001b[1;33m             \u001b[0mres\u001b[0m \u001b[1;33m=\u001b[0m \u001b[0mtransformer\u001b[0m\u001b[1;33m.\u001b[0m\u001b[0mfit_transform\u001b[0m\u001b[1;33m(\u001b[0m\u001b[0mX\u001b[0m\u001b[1;33m,\u001b[0m \u001b[0my\u001b[0m\u001b[1;33m,\u001b[0m \u001b[1;33m**\u001b[0m\u001b[0mfit_params\u001b[0m\u001b[1;33m)\u001b[0m\u001b[1;33m\u001b[0m\u001b[1;33m\u001b[0m\u001b[0m\n\u001b[0m\u001b[0;32m    755\u001b[0m         \u001b[1;32melse\u001b[0m\u001b[1;33m:\u001b[0m\u001b[1;33m\u001b[0m\u001b[1;33m\u001b[0m\u001b[0m\n\u001b[0;32m    756\u001b[0m             \u001b[0mres\u001b[0m \u001b[1;33m=\u001b[0m \u001b[0mtransformer\u001b[0m\u001b[1;33m.\u001b[0m\u001b[0mfit\u001b[0m\u001b[1;33m(\u001b[0m\u001b[0mX\u001b[0m\u001b[1;33m,\u001b[0m \u001b[0my\u001b[0m\u001b[1;33m,\u001b[0m \u001b[1;33m**\u001b[0m\u001b[0mfit_params\u001b[0m\u001b[1;33m)\u001b[0m\u001b[1;33m.\u001b[0m\u001b[0mtransform\u001b[0m\u001b[1;33m(\u001b[0m\u001b[0mX\u001b[0m\u001b[1;33m)\u001b[0m\u001b[1;33m\u001b[0m\u001b[1;33m\u001b[0m\u001b[0m\n",
      "\u001b[1;32m~\\Anaconda\\lib\\site-packages\\sklearn\\feature_extraction\\text.py\u001b[0m in \u001b[0;36mfit_transform\u001b[1;34m(self, raw_documents, y)\u001b[0m\n\u001b[0;32m   1201\u001b[0m         \u001b[0mmax_features\u001b[0m \u001b[1;33m=\u001b[0m \u001b[0mself\u001b[0m\u001b[1;33m.\u001b[0m\u001b[0mmax_features\u001b[0m\u001b[1;33m\u001b[0m\u001b[1;33m\u001b[0m\u001b[0m\n\u001b[0;32m   1202\u001b[0m \u001b[1;33m\u001b[0m\u001b[0m\n\u001b[1;32m-> 1203\u001b[1;33m         vocabulary, X = self._count_vocab(raw_documents,\n\u001b[0m\u001b[0;32m   1204\u001b[0m                                           self.fixed_vocabulary_)\n\u001b[0;32m   1205\u001b[0m \u001b[1;33m\u001b[0m\u001b[0m\n",
      "\u001b[1;32m~\\Anaconda\\lib\\site-packages\\sklearn\\feature_extraction\\text.py\u001b[0m in \u001b[0;36m_count_vocab\u001b[1;34m(self, raw_documents, fixed_vocab)\u001b[0m\n\u001b[0;32m   1113\u001b[0m         \u001b[1;32mfor\u001b[0m \u001b[0mdoc\u001b[0m \u001b[1;32min\u001b[0m \u001b[0mraw_documents\u001b[0m\u001b[1;33m:\u001b[0m\u001b[1;33m\u001b[0m\u001b[1;33m\u001b[0m\u001b[0m\n\u001b[0;32m   1114\u001b[0m             \u001b[0mfeature_counter\u001b[0m \u001b[1;33m=\u001b[0m \u001b[1;33m{\u001b[0m\u001b[1;33m}\u001b[0m\u001b[1;33m\u001b[0m\u001b[1;33m\u001b[0m\u001b[0m\n\u001b[1;32m-> 1115\u001b[1;33m             \u001b[1;32mfor\u001b[0m \u001b[0mfeature\u001b[0m \u001b[1;32min\u001b[0m \u001b[0manalyze\u001b[0m\u001b[1;33m(\u001b[0m\u001b[0mdoc\u001b[0m\u001b[1;33m)\u001b[0m\u001b[1;33m:\u001b[0m\u001b[1;33m\u001b[0m\u001b[1;33m\u001b[0m\u001b[0m\n\u001b[0m\u001b[0;32m   1116\u001b[0m                 \u001b[1;32mtry\u001b[0m\u001b[1;33m:\u001b[0m\u001b[1;33m\u001b[0m\u001b[1;33m\u001b[0m\u001b[0m\n\u001b[0;32m   1117\u001b[0m                     \u001b[0mfeature_idx\u001b[0m \u001b[1;33m=\u001b[0m \u001b[0mvocabulary\u001b[0m\u001b[1;33m[\u001b[0m\u001b[0mfeature\u001b[0m\u001b[1;33m]\u001b[0m\u001b[1;33m\u001b[0m\u001b[1;33m\u001b[0m\u001b[0m\n",
      "\u001b[1;32m~\\Anaconda\\lib\\site-packages\\sklearn\\feature_extraction\\text.py\u001b[0m in \u001b[0;36m_analyze\u001b[1;34m(doc, analyzer, tokenizer, ngrams, preprocessor, decoder, stop_words)\u001b[0m\n\u001b[0;32m     97\u001b[0m \u001b[1;33m\u001b[0m\u001b[0m\n\u001b[0;32m     98\u001b[0m     \u001b[1;32mif\u001b[0m \u001b[0mdecoder\u001b[0m \u001b[1;32mis\u001b[0m \u001b[1;32mnot\u001b[0m \u001b[1;32mNone\u001b[0m\u001b[1;33m:\u001b[0m\u001b[1;33m\u001b[0m\u001b[1;33m\u001b[0m\u001b[0m\n\u001b[1;32m---> 99\u001b[1;33m         \u001b[0mdoc\u001b[0m \u001b[1;33m=\u001b[0m \u001b[0mdecoder\u001b[0m\u001b[1;33m(\u001b[0m\u001b[0mdoc\u001b[0m\u001b[1;33m)\u001b[0m\u001b[1;33m\u001b[0m\u001b[1;33m\u001b[0m\u001b[0m\n\u001b[0m\u001b[0;32m    100\u001b[0m     \u001b[1;32mif\u001b[0m \u001b[0manalyzer\u001b[0m \u001b[1;32mis\u001b[0m \u001b[1;32mnot\u001b[0m \u001b[1;32mNone\u001b[0m\u001b[1;33m:\u001b[0m\u001b[1;33m\u001b[0m\u001b[1;33m\u001b[0m\u001b[0m\n\u001b[0;32m    101\u001b[0m         \u001b[0mdoc\u001b[0m \u001b[1;33m=\u001b[0m \u001b[0manalyzer\u001b[0m\u001b[1;33m(\u001b[0m\u001b[0mdoc\u001b[0m\u001b[1;33m)\u001b[0m\u001b[1;33m\u001b[0m\u001b[1;33m\u001b[0m\u001b[0m\n",
      "\u001b[1;32m~\\Anaconda\\lib\\site-packages\\sklearn\\feature_extraction\\text.py\u001b[0m in \u001b[0;36mdecode\u001b[1;34m(self, doc)\u001b[0m\n\u001b[0;32m    215\u001b[0m \u001b[1;33m\u001b[0m\u001b[0m\n\u001b[0;32m    216\u001b[0m         \u001b[1;32mif\u001b[0m \u001b[0mdoc\u001b[0m \u001b[1;32mis\u001b[0m \u001b[0mnp\u001b[0m\u001b[1;33m.\u001b[0m\u001b[0mnan\u001b[0m\u001b[1;33m:\u001b[0m\u001b[1;33m\u001b[0m\u001b[1;33m\u001b[0m\u001b[0m\n\u001b[1;32m--> 217\u001b[1;33m             raise ValueError(\"np.nan is an invalid document, expected byte or \"\n\u001b[0m\u001b[0;32m    218\u001b[0m                              \"unicode string.\")\n\u001b[0;32m    219\u001b[0m \u001b[1;33m\u001b[0m\u001b[0m\n",
      "\u001b[1;31mValueError\u001b[0m: np.nan is an invalid document, expected byte or unicode string."
     ]
    }
   ],
   "source": [
    "pipe = Pipeline([\n",
    "    ('tf', CountVectorizer(min_df=2)),\n",
    "    ('dtc', DecisionTreeClassifier()\n",
    ")\n",
    "])\n",
    "\n",
    "pipe.fit(X_train, y_train)\n",
    "pipe.score(X_train, y_train), pipe.score(X_test, y_test)"
   ]
  },
  {
   "cell_type": "code",
   "execution_count": null,
   "id": "439874ba-3585-4e02-b43a-3053a49a90a8",
   "metadata": {},
   "outputs": [],
   "source": [
    "pred = pipe.predict(X_test)"
   ]
  },
  {
   "cell_type": "code",
   "execution_count": null,
   "id": "4309e57a-7d55-4896-bf15-1719a0cf2d99",
   "metadata": {},
   "outputs": [],
   "source": [
    "test = pd.DataFrame(pred)"
   ]
  },
  {
   "cell_type": "code",
   "execution_count": null,
   "id": "a72435d2-b0c1-4e40-8d71-65f922a500ab",
   "metadata": {},
   "outputs": [],
   "source": [
    "test[0].value_counts(normalize=True)"
   ]
  },
  {
   "cell_type": "markdown",
   "id": "949680ca-224d-4bd1-a3d4-decc2f2746c9",
   "metadata": {},
   "source": [
    "### Test phrases - Decision Tree"
   ]
  },
  {
   "cell_type": "code",
   "execution_count": null,
   "id": "935969cf-03e0-4d5e-aed3-045f65f3650d",
   "metadata": {},
   "outputs": [],
   "source": [
    "test = ['Happy', 'Nice','Smile','Fun']"
   ]
  },
  {
   "cell_type": "code",
   "execution_count": null,
   "id": "d2983028-b601-4587-8127-244fbe2e1f25",
   "metadata": {},
   "outputs": [],
   "source": [
    "test = pd.DataFrame(test)\n",
    "new_pred =pipe.predict(test[0])\n",
    "new_pred"
   ]
  },
  {
   "cell_type": "code",
   "execution_count": null,
   "id": "c009889a-4153-461f-9fb8-fb76ebdc7659",
   "metadata": {},
   "outputs": [],
   "source": [
    "test = ['Sad', 'Unhappy','Mad','Angry']\n",
    "test = pd.DataFrame(test)\n",
    "new_pred =pipe.predict(test[0])\n",
    "new_pred"
   ]
  },
  {
   "cell_type": "code",
   "execution_count": null,
   "id": "5154ee34-de44-4471-8a28-5c7c5ec64cad",
   "metadata": {},
   "outputs": [],
   "source": [
    "test = ['Get away from me.', 'Your fired','Get out of my way.','You suck']\n",
    "test = pd.DataFrame(test)\n",
    "new_pred =pipe.predict(test[0])\n",
    "new_pred"
   ]
  },
  {
   "cell_type": "code",
   "execution_count": null,
   "id": "5f2d8aa3-83e9-49e9-9ec7-10caceae60c7",
   "metadata": {},
   "outputs": [],
   "source": [
    "test = ['How are you.', 'Great job.','I love you.','I hate you.']\n",
    "test = pd.DataFrame(test)\n",
    "new_pred =pipe.predict(test[0])\n",
    "new_pred"
   ]
  },
  {
   "cell_type": "markdown",
   "id": "d05fb75c-693b-416c-912d-4266924d6cf4",
   "metadata": {},
   "source": [
    "### Multinomial"
   ]
  },
  {
   "cell_type": "code",
   "execution_count": null,
   "id": "a6916e25-5d4f-4a6e-b665-0ac38bf7a04d",
   "metadata": {},
   "outputs": [],
   "source": [
    "pipe = Pipeline([\n",
    "    ('cv', CountVectorizer(min_df=2)),\n",
    "    ('mnb', MultinomialNB())\n",
    "])\n",
    "\n",
    "pipe.fit(X_train, y_train)\n",
    "pipe.score(X_train, y_train), pipe.score(X_test, y_test)"
   ]
  },
  {
   "cell_type": "markdown",
   "id": "7681f465-f04a-4b70-bf72-e01414e5a458",
   "metadata": {},
   "source": [
    "###  Extra Tree"
   ]
  },
  {
   "cell_type": "code",
   "execution_count": null,
   "id": "53bd9263-fc84-40ae-9794-fbe290f6facc",
   "metadata": {},
   "outputs": [],
   "source": [
    "pipe = Pipeline([\n",
    "    ('cv', CountVectorizer(min_df=2)),\n",
    "    ('mnb', ExtraTreesClassifier())\n",
    "])\n",
    "\n",
    "pipe.fit(X_train, y_train)\n",
    "pipe.score(X_train, y_train), pipe.score(X_test, y_test)"
   ]
  },
  {
   "cell_type": "markdown",
   "id": "11634d46-71f9-429b-9418-07d1988f7c37",
   "metadata": {},
   "source": [
    "### AdaBoost"
   ]
  },
  {
   "cell_type": "code",
   "execution_count": null,
   "id": "5da9b3ab-ae77-479a-aff5-3aa22d9e652a",
   "metadata": {},
   "outputs": [],
   "source": [
    "pipe = Pipeline([\n",
    "    ('cv', CountVectorizer(min_df=2)),\n",
    "    ('mnb', AdaBoostClassifier())\n",
    "])\n",
    "\n",
    "pipe.fit(X_train, y_train)\n",
    "pipe.score(X_train, y_train), pipe.score(X_test, y_test)"
   ]
  },
  {
   "cell_type": "markdown",
   "id": "dc745655-128b-437e-af25-75692204d7a5",
   "metadata": {},
   "source": [
    "### KNN"
   ]
  },
  {
   "cell_type": "code",
   "execution_count": null,
   "id": "55f6e74c-9a40-485b-8bc4-21299f14c983",
   "metadata": {},
   "outputs": [],
   "source": [
    "pipe = Pipeline([\n",
    "    ('cv', CountVectorizer(min_df=2)),\n",
    "    ('mnb', KNeighborsClassifier())\n",
    "])\n",
    "\n",
    "pipe.fit(X_train, y_train)\n",
    "pipe.score(X_train, y_train), pipe.score(X_test, y_test)"
   ]
  },
  {
   "cell_type": "markdown",
   "id": "f2356e11-f46a-49a2-8ac4-c452743c0989",
   "metadata": {},
   "source": [
    "### SVC"
   ]
  },
  {
   "cell_type": "code",
   "execution_count": null,
   "id": "590f47e8-fc30-42f7-844b-dbcd1cbf896c",
   "metadata": {},
   "outputs": [],
   "source": [
    "pipe = Pipeline([\n",
    "    ('cv', CountVectorizer(min_df=2)),\n",
    "    ('svc', SVC())\n",
    "])\n",
    "\n",
    "pipe.fit(X_train, y_train)\n",
    "pipe.score(X_train, y_train), pipe.score(X_test, y_test)"
   ]
  },
  {
   "cell_type": "markdown",
   "id": "56f5a5ea-1606-4836-9731-326064943163",
   "metadata": {},
   "source": [
    "### Random Forest"
   ]
  },
  {
   "cell_type": "code",
   "execution_count": null,
   "id": "e5808081-5785-4922-8606-f1ca0c085693",
   "metadata": {},
   "outputs": [],
   "source": [
    "pipe = Pipeline([\n",
    "    ('cv', CountVectorizer(min_df=2)),\n",
    "    ('mnb', RandomForestClassifier())\n",
    "])\n",
    "\n",
    "pipe.fit(X_train, y_train)\n",
    "pipe.score(X_train, y_train), pipe.score(X_test, y_test)"
   ]
  },
  {
   "cell_type": "code",
   "execution_count": null,
   "id": "dbff1a2f-0e73-4720-8edf-82100f2575e5",
   "metadata": {},
   "outputs": [],
   "source": [
    "pred = pipe.predict(X_test)"
   ]
  },
  {
   "cell_type": "code",
   "execution_count": null,
   "id": "47afae59-1905-4c7f-927a-78c61ac73cd6",
   "metadata": {},
   "outputs": [],
   "source": [
    "test = pd.DataFrame(pred)"
   ]
  },
  {
   "cell_type": "code",
   "execution_count": null,
   "id": "bbac4a52-7e02-4129-addd-6e3ede7226f7",
   "metadata": {},
   "outputs": [],
   "source": [
    "test[0].value_counts(normalize=True)"
   ]
  },
  {
   "cell_type": "code",
   "execution_count": null,
   "id": "116c9fce-524f-4325-8494-b5b45cf4f454",
   "metadata": {},
   "outputs": [],
   "source": [
    "# visualize this\n",
    "\n",
    "plot_confusion_matrix(pipe, X_test, y_test, cmap='Blues', values_format='d');"
   ]
  },
  {
   "cell_type": "code",
   "execution_count": null,
   "id": "a64f979b-d124-4861-9077-1ca23be66b93",
   "metadata": {},
   "outputs": [],
   "source": [
    "from sklearn.metrics import classification_report"
   ]
  },
  {
   "cell_type": "code",
   "execution_count": null,
   "id": "19416a18-08e9-4daa-a71f-b0ec710ec74a",
   "metadata": {},
   "outputs": [],
   "source": [
    "print(classification_report(y_test, pred))"
   ]
  },
  {
   "cell_type": "markdown",
   "id": "2b4158f2-98b9-48c3-95af-1a2ac931b56f",
   "metadata": {},
   "source": [
    "### Model XG Boost"
   ]
  },
  {
   "cell_type": "code",
   "execution_count": null,
   "id": "27a6322c-b03e-4ebd-800a-680ca3a5ece3",
   "metadata": {},
   "outputs": [],
   "source": [
    "xgb = XGBClassifier()"
   ]
  },
  {
   "cell_type": "code",
   "execution_count": null,
   "id": "bd67a829-e89e-4e72-ae26-2baa56bb07b3",
   "metadata": {
    "tags": []
   },
   "outputs": [],
   "source": [
    "pipe = Pipeline([\n",
    "    ('cv', TfidfVectorizer(min_df=2)),\n",
    "    ('xgb', XGBClassifier())\n",
    "])\n",
    "\n",
    "pipe.fit(X_train, y_train)\n",
    "pipe.score(X_train, y_train), pipe.score(X_test, y_test)"
   ]
  },
  {
   "cell_type": "code",
   "execution_count": null,
   "id": "261d2203-f8b1-4b57-b5e2-69117afff6bb",
   "metadata": {},
   "outputs": [],
   "source": [
    "pred = pipe.predict(X_test)"
   ]
  },
  {
   "cell_type": "code",
   "execution_count": null,
   "id": "ab8f8cce-79be-4d48-b52a-4e42bdec0216",
   "metadata": {},
   "outputs": [],
   "source": [
    "test = pd.DataFrame(pred)"
   ]
  },
  {
   "cell_type": "code",
   "execution_count": null,
   "id": "1e3ada91-1fe1-4c82-9199-a140bec73761",
   "metadata": {},
   "outputs": [],
   "source": [
    "test[0].value_counts(normalize=True)"
   ]
  },
  {
   "cell_type": "code",
   "execution_count": null,
   "id": "e5b1538f-9a66-42da-8e86-0e68313c6756",
   "metadata": {},
   "outputs": [],
   "source": [
    "df = test"
   ]
  },
  {
   "cell_type": "markdown",
   "id": "d2e4ca97-3459-474d-b7ed-0dbc85089d68",
   "metadata": {},
   "source": [
    "### XGB gridsearch"
   ]
  },
  {
   "cell_type": "code",
   "execution_count": null,
   "id": "f3960ee7-40e6-4d9c-8742-2a0273b28170",
   "metadata": {},
   "outputs": [],
   "source": [
    "# xgb_params = {\n",
    "#     'n_estimators': range(0, 100, 500),\n",
    "#     'max_depth': range(3, 6, 10),\n",
    "#     'gamma':[0, 0.2, 0.4],\n",
    "#     'reg_alpha':[1e-5, 1e-2, 0.1, 1, 100],\n",
    "#     'learning_rate':[1e-2, 0.1, 0.2]\n",
    "# }"
   ]
  },
  {
   "cell_type": "code",
   "execution_count": null,
   "id": "bbed23c4-1c7d-43af-ac8d-94b5678b5703",
   "metadata": {},
   "outputs": [],
   "source": [
    "xgb_params = {\n",
    "    #'n_estimators':[0, 100, 500],\n",
    "    #'max_depth':[3, 6, 10],\n",
    "    #'gamma':[0, 0.2, 0.4],\n",
    "    'reg_alpha':[1e-5, 1e-2, 0.1, 1, 100],\n",
    "    'learning_rate':[1e-2, 0.1, 0.2]\n",
    "}"
   ]
  },
  {
   "cell_type": "code",
   "execution_count": null,
   "id": "c1a07777-eb69-4268-a547-23c278b1c8ef",
   "metadata": {},
   "outputs": [],
   "source": [
    "# Instantiate our GridSearchCV object.\n",
    "new_xgb = XGBClassifier()\n",
    "xgb_gridsearch = GridSearchCV(estimator=new_xgb, # What is the model we want to fit?\n",
    "                              #objective='binary:logistic',\n",
    "                              param_grid=xgb_params, # What is the dictionary of hyperparameters?\n",
    "                              n_jobs=4,\n",
    "                              cv=5) # What number of folds in CV will we use?\n",
    "                              #verbose=1) # Some output\n",
    "\n",
    "#source: https://www.analyticsvidhya.com/blog/2016/03/complete-guide-parameter-tuning-xgboost-with-codes-python/"
   ]
  },
  {
   "cell_type": "code",
   "execution_count": null,
   "id": "41485a41-7f65-4811-8dd3-72d4b10bdc01",
   "metadata": {},
   "outputs": [],
   "source": [
    "xgb_gridsearch"
   ]
  },
  {
   "cell_type": "markdown",
   "id": "0c38389e-c4e9-4616-b79e-b5299a2aad63",
   "metadata": {},
   "source": [
    "### CountVectorize"
   ]
  },
  {
   "cell_type": "code",
   "execution_count": null,
   "id": "5a6647fd-c110-4ab8-9f86-07dfd680d246",
   "metadata": {},
   "outputs": [],
   "source": [
    "NYC_LA_df['selftext'].isnull().sum()"
   ]
  },
  {
   "cell_type": "code",
   "execution_count": null,
   "id": "75bac4f4-a83c-4fda-a296-31374afdb2da",
   "metadata": {},
   "outputs": [],
   "source": [
    "# test_dropna = NYC_LA_df.dropna(subset=['selftext'])"
   ]
  },
  {
   "cell_type": "code",
   "execution_count": null,
   "id": "2ce22e04-5cac-417c-b239-bc1c83a97680",
   "metadata": {},
   "outputs": [],
   "source": [
    "# test_dropna['selftext'].isnull().sum()"
   ]
  },
  {
   "cell_type": "code",
   "execution_count": null,
   "id": "6462c9ca-c707-44c5-b96f-4ad7719f81ba",
   "metadata": {
    "tags": []
   },
   "outputs": [],
   "source": [
    "cv = CountVectorizer(min_df=2)\n",
    "cv.fit(X_train)\n",
    "\n",
    "X_train_cv = cv.transform(X_train)\n",
    "X_test_cv = cv.transform(X_test)"
   ]
  },
  {
   "cell_type": "code",
   "execution_count": null,
   "id": "d8da5d0b-b189-40a1-8331-15c06ca2066f",
   "metadata": {},
   "outputs": [],
   "source": [
    "# Fit the GridSearchCV object to the data\n",
    "xgb_gridsearch.fit(X_train_cv, y_train);"
   ]
  },
  {
   "cell_type": "code",
   "execution_count": null,
   "id": "b86ac460-2287-4826-8c90-a65a9b5b4705",
   "metadata": {},
   "outputs": [],
   "source": [
    "# Displays hyperparameters searched over.\n",
    "xgb_gridsearch.param_grid"
   ]
  },
  {
   "cell_type": "code",
   "execution_count": 24,
   "id": "5427b3f1-47b3-4538-bcb5-0681bbcfbb07",
   "metadata": {},
   "outputs": [
    {
     "ename": "NameError",
     "evalue": "name 'xgb_gridsearch' is not defined",
     "output_type": "error",
     "traceback": [
      "\u001b[1;31m---------------------------------------------------------------------------\u001b[0m",
      "\u001b[1;31mNameError\u001b[0m                                 Traceback (most recent call last)",
      "\u001b[1;32m<ipython-input-24-bd3f1d5fc5ed>\u001b[0m in \u001b[0;36m<module>\u001b[1;34m\u001b[0m\n\u001b[0;32m      1\u001b[0m \u001b[1;31m# Displays hyperparameters searched over.\u001b[0m\u001b[1;33m\u001b[0m\u001b[1;33m\u001b[0m\u001b[1;33m\u001b[0m\u001b[0m\n\u001b[1;32m----> 2\u001b[1;33m \u001b[0mxgb_gridsearch\u001b[0m\u001b[1;33m.\u001b[0m\u001b[0mparam_grid\u001b[0m\u001b[1;33m\u001b[0m\u001b[1;33m\u001b[0m\u001b[0m\n\u001b[0m",
      "\u001b[1;31mNameError\u001b[0m: name 'xgb_gridsearch' is not defined"
     ]
    }
   ],
   "source": [
    "# Displays hyperparameters searched over.\n",
    "xgb_gridsearch.param_grid"
   ]
  },
  {
   "cell_type": "code",
   "execution_count": null,
   "id": "876f28ee-857f-4c42-b313-cc4bdadb4847",
   "metadata": {},
   "outputs": [],
   "source": [
    "# Print out the score.\n",
    "# from documentation: Mean cross-validated score of the best_estimator\n",
    "# https://scikit-learn.org/stable/modules/generated/sklearn.model_selection.GridSearchCV.html\n",
    "xgb_gridsearch.best_score_"
   ]
  },
  {
   "cell_type": "code",
   "execution_count": null,
   "id": "6870520c-be29-44cd-99f6-263d49d7059d",
   "metadata": {},
   "outputs": [],
   "source": [
    "# Print out the score.\n",
    "# from documentation: Mean cross-validated score of the best_estimator\n",
    "# https://scikit-learn.org/stable/modules/generated/sklearn.model_selection.GridSearchCV.html\n",
    "xgb_gridsearch.best_score_"
   ]
  },
  {
   "cell_type": "code",
   "execution_count": null,
   "id": "526ba3ab-1310-4743-b2e6-405d827f7183",
   "metadata": {},
   "outputs": [],
   "source": [
    "# Print out the set of hyperparameters that achieved the best score.\n",
    "xgb_gridsearch.best_params_"
   ]
  },
  {
   "cell_type": "code",
   "execution_count": null,
   "id": "600e6f81-9e30-4d30-8b3c-f771c233c156",
   "metadata": {},
   "outputs": [],
   "source": [
    "# Print out the set of hyperparameters that achieved the best score.\n",
    "xgb_gridsearch.best_params_"
   ]
  },
  {
   "cell_type": "code",
   "execution_count": null,
   "id": "80416f16-4414-4270-b57a-10987c999380",
   "metadata": {},
   "outputs": [],
   "source": [
    "# Print out the best model/estimator\n",
    "xgb_gridsearch.best_estimator_"
   ]
  },
  {
   "cell_type": "code",
   "execution_count": null,
   "id": "99a16f82-1f2e-4e51-8bea-2e4d8663fc07",
   "metadata": {},
   "outputs": [],
   "source": [
    "# Evaluate the best fit model on the test data.\n",
    "xgb_gridsearch.score(X_test_cv, y_test)"
   ]
  },
  {
   "cell_type": "code",
   "execution_count": null,
   "id": "baf83b1d-c7e4-4422-97b0-d30b43e39887",
   "metadata": {},
   "outputs": [],
   "source": [
    "# Evaluate the best fit model on the test data.\n",
    "xgb_gridsearch.score(X_test_cv, y_test)"
   ]
  },
  {
   "cell_type": "markdown",
   "id": "258ade1c-bda4-4aae-8186-82244a7858aa",
   "metadata": {},
   "source": [
    "### Top XGB parameters (had to process separately)"
   ]
  },
  {
   "cell_type": "code",
   "execution_count": null,
   "id": "ea96f06e-7fe8-41f2-9c48-94ac5bf859e2",
   "metadata": {},
   "outputs": [],
   "source": [
    "pipe = Pipeline([\n",
    "    ('cv', TfidfVectorizer(min_df=2)),\n",
    "    ('xgb', XGBClassifier(gamma=0.4,\n",
    "                          max_depth=10,\n",
    "                          n_estimators=100, \n",
    "                          learning_rate=0.2,\n",
    "                          reg_alpha=1,\n",
    "                          n_jobs=4,\n",
    "                          cv=5))\n",
    "])\n",
    "\n",
    "pipe.fit(X_train, y_train)\n",
    "pipe.score(X_train, y_train), pipe.score(X_test, y_test)"
   ]
  },
  {
   "cell_type": "code",
   "execution_count": null,
   "id": "2a0caded-6ffd-434e-a0c6-ffb31da03e0a",
   "metadata": {},
   "outputs": [],
   "source": [
    "pred = pipe.predict(X_test)"
   ]
  },
  {
   "cell_type": "code",
   "execution_count": null,
   "id": "038cf136-fc74-4d95-b95d-7df4d19d55ca",
   "metadata": {},
   "outputs": [],
   "source": [
    "test = pd.DataFrame(pred)"
   ]
  },
  {
   "cell_type": "code",
   "execution_count": null,
   "id": "e6945a94-7818-4ead-b55b-dda3487e2afc",
   "metadata": {},
   "outputs": [],
   "source": [
    "test[0].value_counts(normalize=True)"
   ]
  },
  {
   "cell_type": "code",
   "execution_count": null,
   "id": "46a8bf5e-92dd-4deb-a358-4aee5541ad21",
   "metadata": {},
   "outputs": [],
   "source": [
    "from sklearn.metrics import confusion_matrix, plot_confusion_matrix"
   ]
  },
  {
   "cell_type": "code",
   "execution_count": null,
   "id": "59558d4d-7fa0-45f8-9bfe-c558713ac2a8",
   "metadata": {},
   "outputs": [],
   "source": [
    "# Get predictions\n",
    "preds = pipe.predict(X_test)\n",
    "\n",
    "# Save confusion matrix values\n",
    "tn, fp, fn, tp = confusion_matrix(y_test, preds).ravel()"
   ]
  },
  {
   "cell_type": "code",
   "execution_count": null,
   "id": "86c94369-71e9-44aa-98bc-3daeb3fc428f",
   "metadata": {},
   "outputs": [],
   "source": [
    "# Calculate the specificity\n",
    "\n",
    "spec = tn / (tn + fp)\n",
    "\n",
    "print('Specificity:', spec)"
   ]
  },
  {
   "cell_type": "code",
   "execution_count": null,
   "id": "fc30e257-e1a3-4c5c-b677-25ff81ea247d",
   "metadata": {},
   "outputs": [],
   "source": [
    "# visualize this\n",
    "\n",
    "plot_confusion_matrix(pipe, X_test, y_test, cmap='Blues', values_format='d');"
   ]
  },
  {
   "cell_type": "code",
   "execution_count": null,
   "id": "24f788e8-7699-4395-ab31-e6cde964db96",
   "metadata": {},
   "outputs": [],
   "source": [
    "# Calculate the specificity\n",
    "\n",
    "spec = tn / (tn + fp)\n",
    "\n",
    "print('Specificity:', spec)"
   ]
  },
  {
   "cell_type": "code",
   "execution_count": null,
   "id": "2fecb3f7-66ff-4054-9567-04ea32c82789",
   "metadata": {},
   "outputs": [],
   "source": [
    "# Calculate the recall\n",
    "\n",
    "recall = tn / (tn + fn)\n",
    "\n",
    "print('Recall:', recall)"
   ]
  },
  {
   "cell_type": "code",
   "execution_count": null,
   "id": "8d1453fe-a006-4600-9544-dda7a019ef36",
   "metadata": {},
   "outputs": [],
   "source": [
    "# Calculate the precision\n",
    "\n",
    "prec = tp / (tp + fp)\n",
    "\n",
    "print('Precision:', prec)"
   ]
  },
  {
   "cell_type": "code",
   "execution_count": null,
   "id": "55b9ca43-d1d1-4570-9a0c-65c9f77fd2a9",
   "metadata": {},
   "outputs": [],
   "source": [
    "# Calculate the F1\n",
    "\n",
    "F1 = 2*((prec*recall)/(prec+recall))\n",
    "\n",
    "print('F1:', F1)"
   ]
  },
  {
   "cell_type": "code",
   "execution_count": null,
   "id": "4d284031-076c-428d-96cf-91b57d3c8f41",
   "metadata": {},
   "outputs": [],
   "source": [
    "#1000 datapoints\n",
    "test = ['NYPD','FDNY','subway','train','car','LAPD','LA', 'NYC','Los Angeles','New York']\n",
    "test = pd.DataFrame(test)\n",
    "new_pred =pipe.predict(test[0])\n",
    "new_pred"
   ]
  },
  {
   "cell_type": "code",
   "execution_count": null,
   "id": "907e0d00-e769-4d5c-8111-7ef2856ff15c",
   "metadata": {},
   "outputs": [],
   "source": [
    "#2000 datapoints\n",
    "test = ['NYPD','FDNY','subway','train','car','LAPD','LA', 'NYC','Los Angeles','New York']\n",
    "test = pd.DataFrame(test)\n",
    "new_pred =pipe.predict(test[0])\n",
    "new_pred"
   ]
  },
  {
   "cell_type": "code",
   "execution_count": null,
   "id": "3bd77da3-fee6-4739-9c40-60c4db05fcc4",
   "metadata": {},
   "outputs": [],
   "source": [
    "#4000 datapoints\n",
    "test = ['NYPD','FDNY','subway','train','car','LAPD','LA', 'NYC','Los Angeles','New York']\n",
    "test = pd.DataFrame(test)\n",
    "new_pred =pipe.predict(test[0])\n",
    "new_pred"
   ]
  },
  {
   "cell_type": "code",
   "execution_count": null,
   "id": "57b4444d-b09c-424e-b702-014c1a996c72",
   "metadata": {},
   "outputs": [],
   "source": [
    "#1000 datapoints\n",
    "test = ['Happy', 'Nice','Smile','Fun']"
   ]
  },
  {
   "cell_type": "code",
   "execution_count": null,
   "id": "507bc6c7-edcc-4418-a985-4d2684f6c5e2",
   "metadata": {},
   "outputs": [],
   "source": [
    "test = pd.DataFrame(test)\n",
    "new_pred =pipe.predict(test[0])\n",
    "new_pred"
   ]
  },
  {
   "cell_type": "code",
   "execution_count": null,
   "id": "4b621b82-a16f-4d6c-bb62-cbfe6915ab34",
   "metadata": {},
   "outputs": [],
   "source": [
    "#2000 datapoints\n",
    "test = ['Happy', 'Nice','Smile','Fun']"
   ]
  },
  {
   "cell_type": "code",
   "execution_count": null,
   "id": "5d804961-3762-4dc7-a030-6aa01752beb6",
   "metadata": {},
   "outputs": [],
   "source": [
    "test = pd.DataFrame(test)\n",
    "new_pred =pipe.predict(test[0])\n",
    "new_pred"
   ]
  },
  {
   "cell_type": "code",
   "execution_count": null,
   "id": "5cf6571e-36f8-4507-930d-6cc43d8d45df",
   "metadata": {},
   "outputs": [],
   "source": [
    "#4000 datapoints\n",
    "test = ['Happy', 'Nice','Smile','Fun']"
   ]
  },
  {
   "cell_type": "code",
   "execution_count": null,
   "id": "94788911-d673-4b98-9118-7e323a1181a7",
   "metadata": {},
   "outputs": [],
   "source": [
    "test = pd.DataFrame(test)\n",
    "new_pred =pipe.predict(test[0])\n",
    "new_pred"
   ]
  },
  {
   "cell_type": "code",
   "execution_count": null,
   "id": "a8e299ef-ea0f-4420-bdc2-e602c1381c00",
   "metadata": {},
   "outputs": [],
   "source": [
    "#1000 datapoints\n",
    "test = ['Sad', 'Unhappy','Mad','Angry']\n",
    "test = pd.DataFrame(test)\n",
    "new_pred =pipe.predict(test[0])\n",
    "new_pred"
   ]
  },
  {
   "cell_type": "code",
   "execution_count": null,
   "id": "d811a699-3f26-47ad-b1cb-74c0a4cce614",
   "metadata": {},
   "outputs": [],
   "source": [
    "#2000 datapoints\n",
    "test = ['Sad', 'Unhappy','Mad','Angry']\n",
    "test = pd.DataFrame(test)\n",
    "new_pred =pipe.predict(test[0])\n",
    "new_pred"
   ]
  },
  {
   "cell_type": "code",
   "execution_count": null,
   "id": "9c8a9b6a-c3be-46cf-a230-342dbc407706",
   "metadata": {},
   "outputs": [],
   "source": [
    "#1000 datapoints\n",
    "test = ['Get away from me.', 'Your fired','Get out of my way.','You suck']\n",
    "test = pd.DataFrame(test)\n",
    "new_pred =pipe.predict(test[0])\n",
    "new_pred"
   ]
  },
  {
   "cell_type": "code",
   "execution_count": null,
   "id": "7ac142ed-4e3b-4c72-a102-5f25c151ee82",
   "metadata": {},
   "outputs": [],
   "source": [
    "#4000 datapoints\n",
    "test = ['Get away from me.', 'Your fired','Get out of my way.','You suck']\n",
    "test = pd.DataFrame(test)\n",
    "new_pred =pipe.predict(test[0])\n",
    "new_pred"
   ]
  },
  {
   "cell_type": "code",
   "execution_count": null,
   "id": "805fdf50-c1a5-4aee-8d48-01bbd353bb48",
   "metadata": {},
   "outputs": [],
   "source": [
    "#2000 datapoints\n",
    "test = ['Get away from me.', 'Your fired','Get out of my way.','You suck']\n",
    "test = pd.DataFrame(test)\n",
    "new_pred =pipe.predict(test[0])\n",
    "new_pred"
   ]
  },
  {
   "cell_type": "code",
   "execution_count": null,
   "id": "dfd99d33-8405-44ff-bb2b-aad31671f1ff",
   "metadata": {},
   "outputs": [],
   "source": [
    "#1000 datapoints\n",
    "test = ['How are you.', 'Great job.','I love you.','I hate you.']\n",
    "test = pd.DataFrame(test)\n",
    "new_pred =pipe.predict(test[0])\n",
    "new_pred"
   ]
  },
  {
   "cell_type": "code",
   "execution_count": null,
   "id": "c7442f10-2af5-41a2-af63-f9377cf9f871",
   "metadata": {},
   "outputs": [],
   "source": [
    "#2000 datapoints\n",
    "test = ['How are you.', 'Great job.','I love you.','I hate you.']\n",
    "test = pd.DataFrame(test)\n",
    "new_pred =pipe.predict(test[0])\n",
    "new_pred"
   ]
  },
  {
   "cell_type": "code",
   "execution_count": null,
   "id": "e2155cb2-4d03-468d-acb2-fdef94d6ff36",
   "metadata": {},
   "outputs": [],
   "source": [
    "#4000 datapoints\n",
    "test = ['How are you.', 'Great job.','I love you.','I hate you.']\n",
    "test = pd.DataFrame(test)\n",
    "new_pred =pipe.predict(test[0])\n",
    "new_pred"
   ]
  },
  {
   "cell_type": "code",
   "execution_count": null,
   "id": "e04f3efe-0787-4dbb-98d9-508fbc5d5e33",
   "metadata": {},
   "outputs": [],
   "source": [
    "#1000 datapoints\n",
    "test = ['Happy', 'Nice','Smile','Fun']"
   ]
  },
  {
   "cell_type": "code",
   "execution_count": null,
   "id": "3e4508fd-4af8-4b21-9546-23b66b718c68",
   "metadata": {},
   "outputs": [],
   "source": [
    "test = pd.DataFrame(test)\n",
    "new_pred =pipe.predict(test[0])\n",
    "new_pred"
   ]
  },
  {
   "cell_type": "code",
   "execution_count": null,
   "id": "30ca3f5f-ff6f-424b-bbd8-e19074e49ca6",
   "metadata": {},
   "outputs": [],
   "source": [
    "#2000 datapoints\n",
    "test = ['Happy', 'Nice','Smile','Fun']"
   ]
  },
  {
   "cell_type": "code",
   "execution_count": null,
   "id": "b5e15c55-3bba-4e40-873a-158f6efe852e",
   "metadata": {},
   "outputs": [],
   "source": [
    "test = pd.DataFrame(test)\n",
    "new_pred =pipe.predict(test[0])\n",
    "new_pred"
   ]
  },
  {
   "cell_type": "code",
   "execution_count": null,
   "id": "a0a92e85-aec8-484f-9d52-81dfa0fa7ba8",
   "metadata": {},
   "outputs": [],
   "source": [
    "#4000 datapoints\n",
    "test = ['Happy', 'Nice','Smile','Fun']"
   ]
  },
  {
   "cell_type": "code",
   "execution_count": null,
   "id": "b9a2e8e1-3857-4491-8c08-bb16be49050b",
   "metadata": {},
   "outputs": [],
   "source": [
    "test = pd.DataFrame(test)\n",
    "new_pred =pipe.predict(test[0])\n",
    "new_pred"
   ]
  },
  {
   "cell_type": "code",
   "execution_count": null,
   "id": "edc72c30-40b1-47ee-aaf5-c821d656204e",
   "metadata": {},
   "outputs": [],
   "source": [
    "#1000 datapoints\n",
    "test = ['Sad', 'Unhappy','Mad','Angry']\n",
    "test = pd.DataFrame(test)\n",
    "new_pred =pipe.predict(test[0])\n",
    "new_pred"
   ]
  },
  {
   "cell_type": "code",
   "execution_count": null,
   "id": "b5b4fcb1-ce9a-4b1e-8c94-54235f6221ff",
   "metadata": {},
   "outputs": [],
   "source": [
    "#2000 datapoints\n",
    "test = ['Sad', 'Unhappy','Mad','Angry']\n",
    "test = pd.DataFrame(test)\n",
    "new_pred =pipe.predict(test[0])\n",
    "new_pred"
   ]
  },
  {
   "cell_type": "code",
   "execution_count": null,
   "id": "ed89f1f5-c79b-4e9e-ac49-8eb5821367c3",
   "metadata": {},
   "outputs": [],
   "source": [
    "#4000 datapoints\n",
    "test = ['Sad', 'Unhappy','Mad','Angry']\n",
    "test = pd.DataFrame(test)\n",
    "new_pred =pipe.predict(test[0])\n",
    "new_pred"
   ]
  },
  {
   "cell_type": "code",
   "execution_count": null,
   "id": "3291f66f-5099-4230-93a4-8fa104cbca11",
   "metadata": {},
   "outputs": [],
   "source": [
    "#4000 datapoints\n",
    "test = ['How are you.', 'Great job.','I love you.','I hate you.']\n",
    "test = pd.DataFrame(test)\n",
    "new_pred =pipe.predict(test[0])\n",
    "new_pred"
   ]
  },
  {
   "cell_type": "code",
   "execution_count": null,
   "id": "e8323b1d-328f-472e-b46c-0fd3aea38a83",
   "metadata": {},
   "outputs": [],
   "source": [
    "#1000 datapoints\n",
    "test = ['Get away from me.', 'Your fired','Get out of my way.','You suck']\n",
    "test = pd.DataFrame(test)\n",
    "new_pred =pipe.predict(test[0])\n",
    "new_pred"
   ]
  },
  {
   "cell_type": "code",
   "execution_count": null,
   "id": "e2bd43c5-52ac-4aec-82ad-71d1c69e584c",
   "metadata": {},
   "outputs": [],
   "source": [
    "#1000 datapoints\n",
    "test = ['How are you.', 'Great job.','I love you.','I hate you.']\n",
    "test = pd.DataFrame(test)\n",
    "new_pred =pipe.predict(test[0])\n",
    "new_pred"
   ]
  },
  {
   "cell_type": "code",
   "execution_count": null,
   "id": "21329c9c-f2ff-47c7-951f-709c753243a4",
   "metadata": {},
   "outputs": [],
   "source": [
    "#2000 datapoints\n",
    "test = ['How are you.', 'Great job.','I love you.','I hate you.']\n",
    "test = pd.DataFrame(test)\n",
    "new_pred =pipe.predict(test[0])\n",
    "new_pred"
   ]
  },
  {
   "cell_type": "markdown",
   "id": "287fa35f-9ae9-4578-a7f4-60299538813f",
   "metadata": {},
   "source": [
    "### Make a dataframe of accuracies"
   ]
  },
  {
   "cell_type": "code",
   "execution_count": null,
   "id": "ac2a2613-763a-4fb1-a0dd-33f4c374ed6b",
   "metadata": {},
   "outputs": [],
   "source": [
    "df=pd.DataFrame({\"Accuracies\":[79,77.2,76.6,75,73.6,72.8,72.4,68,63 ],\n",
    "                \"w/ stop_words\":[76.7,'',73.3,74,'','','','','' ]\n",
    "                })"
   ]
  },
  {
   "cell_type": "code",
   "execution_count": null,
   "id": "ada31bf9-6887-4ef1-8e28-d8b06c462541",
   "metadata": {},
   "outputs": [],
   "source": [
    "df.index = ['XGBoost','LogReg','DecTree','AdaBoost','ExtraTree','SVC','RandFor','MultiNB','KNN']\n",
    "df"
   ]
  },
  {
   "cell_type": "markdown",
   "id": "4ff9433e-1f92-4242-ac3d-7e96f4cebaba",
   "metadata": {},
   "source": [
    "### Make a dataframe of accuracies"
   ]
  },
  {
   "cell_type": "code",
   "execution_count": null,
   "id": "08aeef78-0e53-4013-9ec2-91b36904a5a0",
   "metadata": {},
   "outputs": [],
   "source": [
    "df=pd.DataFrame({\"Accuracies\":[79,77.2,76.6,75,73.6,72.8,72.4,68,63 ],\n",
    "                \"w/ stop_words\":[76.7,'',73.3,74,'','','','','' ]\n",
    "                })"
   ]
  },
  {
   "cell_type": "code",
   "execution_count": null,
   "id": "53be41fe-6b27-4b37-ae8e-b49efba03cc9",
   "metadata": {},
   "outputs": [],
   "source": [
    "df.index = ['XGBoost','LogReg','DecTree','AdaBoost','ExtraTree','SVC','RandFor','MultiNB','KNN']\n",
    "df"
   ]
  },
  {
   "cell_type": "markdown",
   "id": "9de7df8f-9370-455c-83a0-4a01d2320137",
   "metadata": {},
   "source": [
    "### Make a dataframe of phrase predictions"
   ]
  },
  {
   "cell_type": "code",
   "execution_count": null,
   "id": "e07a4eb2-eabc-4ec8-94a8-74ade49725c7",
   "metadata": {},
   "outputs": [],
   "source": [
    "df=pd.DataFrame({\"Predictio`n\":['AskNYC','AskNYC','AskNYC','AskNYC','AskNYC','AskNYC','AskLA','AskNYC','AskLA','AskNYC' ]\n",
    "                })"
   ]
  },
  {
   "cell_type": "code",
   "execution_count": null,
   "id": "e16fab2a-e699-4360-b3bf-64c8863840ec",
   "metadata": {},
   "outputs": [],
   "source": [
    "df.index = ['NYPD','FDNY','Subway','train','car','LAPD','LA','NYC','Los Angeles','New York']\n",
    "df"
   ]
  },
  {
   "cell_type": "code",
   "execution_count": null,
   "id": "1dd801da-5883-49a9-a416-e3d455d17768",
   "metadata": {},
   "outputs": [],
   "source": [
    "df=pd.DataFrame({\"Prediction\":['AskNYC','AskNYC','AskNYC','AskNYC','AskNYC','AskNYC','AskNYC','AskNYC']\n",
    "                })"
   ]
  },
  {
   "cell_type": "code",
   "execution_count": null,
   "id": "f7f19954-b480-45c9-a4d6-d372ac2dec2b",
   "metadata": {},
   "outputs": [],
   "source": [
    "df.index = ['Happy','Nice','Smile','Fun','Sad','Unhappy','Mad','Angry']\n",
    "df"
   ]
  },
  {
   "cell_type": "code",
   "execution_count": null,
   "id": "d5647616-a361-44bd-9547-0ca334087944",
   "metadata": {},
   "outputs": [],
   "source": [
    "df=pd.DataFrame({\"Prediction\":['AskNYC','AskNYC','AskLA','AskNYC','AskLA','AskLA']\n",
    "                })"
   ]
  },
  {
   "cell_type": "code",
   "execution_count": null,
   "id": "3ee3f5ce-f39e-475f-8fcf-5bbd3640f7f2",
   "metadata": {},
   "outputs": [],
   "source": [
    "df.index = ['Get away from me','Get out of my way','How are you','Great job','I love you','I hate you']\n",
    "df"
   ]
  },
  {
   "cell_type": "markdown",
   "id": "5b5cb4ff-d94f-44d5-9263-11e71852db51",
   "metadata": {},
   "source": [
    "### Make a dataframe of precision, recall and F1"
   ]
  },
  {
   "cell_type": "code",
   "execution_count": null,
   "id": "7fbd19d3-d7de-48cf-93cb-98a3124cede9",
   "metadata": {},
   "outputs": [],
   "source": [
    "df=pd.DataFrame({\"XGBoost\":[79.2,78.0,79.7,78.6]\n",
    "                })"
   ]
  },
  {
   "cell_type": "code",
   "execution_count": null,
   "id": "6b8bac10-9b71-43dd-9ef2-0b161cee6ee2",
   "metadata": {},
   "outputs": [],
   "source": [
    "df.index = ['Precision','Recall','Specificity','F1']\n",
    "df"
   ]
  },
  {
   "cell_type": "code",
   "execution_count": null,
   "id": "1f6daa63-9394-4165-b2a4-31d6554e0799",
   "metadata": {},
   "outputs": [],
   "source": []
  }
 ],
 "metadata": {
  "kernelspec": {
   "display_name": "Python 3",
   "language": "python",
   "name": "python3"
  },
  "language_info": {
   "codemirror_mode": {
    "name": "ipython",
    "version": 3
   },
   "file_extension": ".py",
   "mimetype": "text/x-python",
   "name": "python",
   "nbconvert_exporter": "python",
   "pygments_lexer": "ipython3",
   "version": "3.8.8"
  }
 },
 "nbformat": 4,
 "nbformat_minor": 5
}
